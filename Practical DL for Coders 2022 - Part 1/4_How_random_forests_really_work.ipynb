{
  "cells": [
    {
      "cell_type": "markdown",
      "metadata": {
        "id": "IYZ6z_MedTr7"
      },
      "source": [
        "# ***How random forests really work***"
      ]
    },
    {
      "cell_type": "markdown",
      "metadata": {
        "id": "zjZV_GMLdYUr"
      },
      "source": [
        "This notebook has been prepared by me and is based on the fast.ai's Notebook, which can be found at the following link: https://www.kaggle.com/code/jhoward/how-random-forests-really-work.\n",
        "\n",
        "Review it for a comprehensive explanation."
      ]
    },
    {
      "cell_type": "markdown",
      "metadata": {
        "id": "kzwsdL5IdfZ2"
      },
      "source": [
        "## ***Introduction***"
      ]
    },
    {
      "cell_type": "code",
      "execution_count": 1,
      "metadata": {
        "id": "2b0vedpJfJm4"
      },
      "outputs": [],
      "source": [
        "import os\n",
        "iskaggle = os.environ.get('KAGGLE_KERNEL_RUN_TYPE', '')"
      ]
    },
    {
      "cell_type": "code",
      "execution_count": 2,
      "metadata": {
        "id": "Ess2p305fM27"
      },
      "outputs": [],
      "source": [
        "creds = '{\"username\":\"\",\"key\":\"\"}'"
      ]
    },
    {
      "cell_type": "code",
      "execution_count": 3,
      "metadata": {
        "id": "TH2N5F6OfOg-"
      },
      "outputs": [],
      "source": [
        "from pathlib import Path\n",
        "\n",
        "cred_path = Path('~/.kaggle/kaggle.json').expanduser()\n",
        "if not cred_path.exists():\n",
        "    cred_path.parent.mkdir(exist_ok=True)\n",
        "    cred_path.write_text(creds)\n",
        "    cred_path.chmod(0o600)"
      ]
    },
    {
      "cell_type": "code",
      "execution_count": 4,
      "metadata": {
        "id": "F8d1VL_afQHp"
      },
      "outputs": [],
      "source": [
        "path = Path('titanic')"
      ]
    },
    {
      "cell_type": "code",
      "execution_count": 5,
      "metadata": {
        "colab": {
          "base_uri": "https://localhost:8080/"
        },
        "id": "b9b102-jfSio",
        "outputId": "05f1ade7-ae80-43c8-f566-d66d97482af2"
      },
      "outputs": [
        {
          "output_type": "stream",
          "name": "stdout",
          "text": [
            "Downloading titanic.zip to /content\n"
          ]
        },
        {
          "output_type": "stream",
          "name": "stderr",
          "text": [
            "100%|██████████| 34.1k/34.1k [00:00<00:00, 17.1MB/s]"
          ]
        },
        {
          "output_type": "stream",
          "name": "stdout",
          "text": [
            "\n"
          ]
        },
        {
          "output_type": "stream",
          "name": "stderr",
          "text": [
            "\n"
          ]
        }
      ],
      "source": [
        "if not iskaggle and not path.exists():\n",
        "    import zipfile,kaggle\n",
        "    kaggle.api.competition_download_cli(str(path))\n",
        "    zipfile.ZipFile(f'{path}.zip').extractall(path)"
      ]
    },
    {
      "cell_type": "code",
      "execution_count": 6,
      "metadata": {
        "id": "P_2FcgLxfUJy"
      },
      "outputs": [],
      "source": [
        "if iskaggle:\n",
        "    path = Path('../input/titanic')"
      ]
    },
    {
      "cell_type": "code",
      "execution_count": 7,
      "metadata": {
        "id": "f-t3q53JdKm8"
      },
      "outputs": [],
      "source": [
        "from fastai.imports import *\n",
        "np.set_printoptions(linewidth=130)"
      ]
    },
    {
      "cell_type": "markdown",
      "metadata": {
        "id": "e-E1iNq_fDB7"
      },
      "source": [
        "## ***Data preprocessing***"
      ]
    },
    {
      "cell_type": "code",
      "execution_count": 8,
      "metadata": {
        "id": "E9MCjC0Ve5Vp"
      },
      "outputs": [],
      "source": [
        "df = pd.read_csv(path/'train.csv')"
      ]
    },
    {
      "cell_type": "code",
      "execution_count": 9,
      "metadata": {
        "id": "p8G8qtsYfGEX"
      },
      "outputs": [],
      "source": [
        "tst_df = pd.read_csv(path/'test.csv')"
      ]
    },
    {
      "cell_type": "code",
      "execution_count": 10,
      "metadata": {
        "id": "mJNsACXTfIxl"
      },
      "outputs": [],
      "source": [
        "modes = df.mode().iloc[0]"
      ]
    },
    {
      "cell_type": "code",
      "execution_count": 11,
      "metadata": {
        "id": "yDVn6FQnnGlN"
      },
      "outputs": [],
      "source": [
        "def proc_data(df):\n",
        "    df['Fare'] = df.Fare.fillna(0)\n",
        "    df.fillna(modes, inplace=True)\n",
        "    df['LogFare'] = np.log1p(df['Fare'])\n",
        "    df['Embarked'] = pd.Categorical(df.Embarked)\n",
        "    df['Sex'] = pd.Categorical(df.Sex)\n",
        "\n",
        "proc_data(df)\n",
        "proc_data(tst_df)"
      ]
    },
    {
      "cell_type": "code",
      "execution_count": 12,
      "metadata": {
        "id": "gi6ieqpPuUYH"
      },
      "outputs": [],
      "source": [
        "cats=[\"Sex\",\"Embarked\"]\n",
        "conts=['Age', 'SibSp', 'Parch', 'LogFare',\"Pclass\"]\n",
        "dep=\"Survived\""
      ]
    },
    {
      "cell_type": "code",
      "execution_count": 13,
      "metadata": {
        "colab": {
          "base_uri": "https://localhost:8080/"
        },
        "id": "1UHps9RTuwnN",
        "outputId": "45b55895-1011-45f7-8a61-13f4e82be44a"
      },
      "outputs": [
        {
          "output_type": "execute_result",
          "data": {
            "text/plain": [
              "0      male\n",
              "1    female\n",
              "2    female\n",
              "3    female\n",
              "4      male\n",
              "Name: Sex, dtype: category\n",
              "Categories (2, object): ['female', 'male']"
            ]
          },
          "metadata": {},
          "execution_count": 13
        }
      ],
      "source": [
        "df.Sex.head()"
      ]
    },
    {
      "cell_type": "code",
      "execution_count": 14,
      "metadata": {
        "colab": {
          "base_uri": "https://localhost:8080/"
        },
        "id": "Y08M7x6qu0rc",
        "outputId": "ff93e40b-f2b0-4e0a-d069-cc1f51c7b40e"
      },
      "outputs": [
        {
          "output_type": "execute_result",
          "data": {
            "text/plain": [
              "0    1\n",
              "1    0\n",
              "2    0\n",
              "3    0\n",
              "4    1\n",
              "dtype: int8"
            ]
          },
          "metadata": {},
          "execution_count": 14
        }
      ],
      "source": [
        "df.Sex.cat.codes.head()"
      ]
    },
    {
      "cell_type": "markdown",
      "metadata": {
        "id": "T55uz8g5u-GF"
      },
      "source": [
        "## ***Binary splits***"
      ]
    },
    {
      "cell_type": "code",
      "execution_count": 15,
      "metadata": {
        "colab": {
          "base_uri": "https://localhost:8080/",
          "height": 487
        },
        "id": "nVHPsglvvAor",
        "outputId": "416a55fa-9ff2-49c8-c90e-5e23574ba08e"
      },
      "outputs": [
        {
          "output_type": "display_data",
          "data": {
            "text/plain": [
              "<Figure size 1100x500 with 2 Axes>"
            ],
            "image/png": "[encoded data removed]"
          },
          "metadata": {}
        }
      ],
      "source": [
        "import seaborn as sns\n",
        "\n",
        "fig,axs = plt.subplots(1,2, figsize=(11,5))\n",
        "sns.barplot(data=df, y=dep, x=\"Sex\", ax=axs[0]).set(title=\"Survival rate\")\n",
        "sns.countplot(data=df, x=\"Sex\", ax=axs[1]).set(title=\"Histogram\");"
      ]
    },
    {
      "cell_type": "code",
      "execution_count": 16,
      "metadata": {
        "id": "Rmgn5OdHZBPK"
      },
      "outputs": [],
      "source": [
        "from numpy import random\n",
        "from sklearn.model_selection import train_test_split\n",
        "\n",
        "random.seed(42)\n",
        "trn_df,val_df = train_test_split(df, test_size=0.25)\n",
        "trn_df[cats] = trn_df[cats].apply(lambda x: x.cat.codes)\n",
        "val_df[cats] = val_df[cats].apply(lambda x: x.cat.codes)"
      ]
    },
    {
      "cell_type": "code",
      "execution_count": 17,
      "metadata": {
        "id": "ZM4bdsKVZnoh"
      },
      "outputs": [],
      "source": [
        "def xs_y(df):\n",
        "    xs = df[cats+conts].copy()\n",
        "    return xs,df[dep] if dep in df else None\n",
        "\n",
        "trn_xs,trn_y = xs_y(trn_df)\n",
        "val_xs,val_y = xs_y(val_df)"
      ]
    },
    {
      "cell_type": "code",
      "execution_count": 18,
      "metadata": {
        "id": "cjbWFD2aadYD"
      },
      "outputs": [],
      "source": [
        "preds = val_xs.Sex==0"
      ]
    },
    {
      "cell_type": "code",
      "execution_count": 19,
      "metadata": {
        "colab": {
          "base_uri": "https://localhost:8080/"
        },
        "id": "PauS8NiLajEu",
        "outputId": "9caef339-9b32-4997-84b1-41ebebc0ba83"
      },
      "outputs": [
        {
          "output_type": "execute_result",
          "data": {
            "text/plain": [
              "0.21524663677130046"
            ]
          },
          "metadata": {},
          "execution_count": 19
        }
      ],
      "source": [
        "from sklearn.metrics import mean_absolute_error\n",
        "mean_absolute_error(val_y, preds)"
      ]
    },
    {
      "cell_type": "code",
      "execution_count": 20,
      "metadata": {
        "colab": {
          "base_uri": "https://localhost:8080/",
          "height": 465
        },
        "id": "TG6sgISAa29F",
        "outputId": "ad213e59-198c-4149-e4ff-dd38208c323d"
      },
      "outputs": [
        {
          "output_type": "display_data",
          "data": {
            "text/plain": [
              "<Figure size 1100x500 with 2 Axes>"
            ],
            "image/png": "[encoded data removed]"
          },
          "metadata": {}
        }
      ],
      "source": [
        "df_fare = trn_df[trn_df.LogFare>0]\n",
        "fig,axs = plt.subplots(1,2, figsize=(11,5))\n",
        "sns.boxenplot(data=df_fare, x=dep, y=\"LogFare\", ax=axs[0])\n",
        "sns.kdeplot(data=df_fare, x=\"LogFare\", ax=axs[1]);"
      ]
    },
    {
      "cell_type": "code",
      "execution_count": 21,
      "metadata": {
        "id": "1XcseF-wb1qt"
      },
      "outputs": [],
      "source": [
        "preds = val_xs.LogFare>2.7"
      ]
    },
    {
      "cell_type": "code",
      "execution_count": 22,
      "metadata": {
        "colab": {
          "base_uri": "https://localhost:8080/"
        },
        "id": "KjE8cDp2b_NT",
        "outputId": "d0b4a977-4b2b-46b3-a10f-8cb75a0fa174"
      },
      "outputs": [
        {
          "output_type": "execute_result",
          "data": {
            "text/plain": [
              "0.336322869955157"
            ]
          },
          "metadata": {},
          "execution_count": 22
        }
      ],
      "source": [
        "mean_absolute_error(val_y, preds)"
      ]
    },
    {
      "cell_type": "code",
      "execution_count": 23,
      "metadata": {
        "id": "fY3oHrI6cjbC"
      },
      "outputs": [],
      "source": [
        "def _side_score(side, y):\n",
        "    tot = side.sum()\n",
        "    if tot<=1: return 0\n",
        "    return y[side].std()*tot"
      ]
    },
    {
      "cell_type": "code",
      "execution_count": 24,
      "metadata": {
        "id": "TmKxva7MdGDn"
      },
      "outputs": [],
      "source": [
        "def score(col, y, split):\n",
        "    lhs = col<=split\n",
        "    return (_side_score(lhs,y) + _side_score(~lhs,y))/len(y)"
      ]
    },
    {
      "cell_type": "code",
      "execution_count": 25,
      "metadata": {
        "colab": {
          "base_uri": "https://localhost:8080/"
        },
        "id": "a2nHf9Tlv7yO",
        "outputId": "0b1e0bcb-c721-4af6-dbe9-fe4072f0c5b7"
      },
      "outputs": [
        {
          "output_type": "execute_result",
          "data": {
            "text/plain": [
              "0.40787530982063946"
            ]
          },
          "metadata": {},
          "execution_count": 25
        }
      ],
      "source": [
        "score(trn_xs[\"Sex\"], trn_y, 0.5)"
      ]
    },
    {
      "cell_type": "code",
      "execution_count": 26,
      "metadata": {
        "colab": {
          "base_uri": "https://localhost:8080/"
        },
        "id": "6AftlkHywChY",
        "outputId": "19f27492-3d28-4003-d572-969e71293045"
      },
      "outputs": [
        {
          "output_type": "execute_result",
          "data": {
            "text/plain": [
              "0.47180873952099694"
            ]
          },
          "metadata": {},
          "execution_count": 26
        }
      ],
      "source": [
        "score(trn_xs[\"LogFare\"], trn_y, 2.7)"
      ]
    },
    {
      "cell_type": "code",
      "execution_count": 27,
      "metadata": {
        "colab": {
          "base_uri": "https://localhost:8080/",
          "height": 98,
          "referenced_widgets": [
            "31490fdd83c042688ddf2ba8e3ee3f1f",
            "a99a55ac94124303b5c3d3afa8934aaa",
            "757d5e5346af4568862e644f98332437",
            "b50346a97a184339a8a0319bf2c43be2",
            "6a9426abc0f04ccba4412da905d5f605",
            "87de02902fcb45dcb150d31d74c55c4e",
            "4706b7a2f371484ab7a7f3d985acfd43",
            "1bfdad11de26471493feac5f30a85f39",
            "d7f422e91abf4408a71ba98827a4b54f",
            "cf6281839a774913865900dbcf2e5bec"
          ]
        },
        "id": "g-NtR6fIwMVZ",
        "outputId": "e0089dbc-4df4-42f9-af28-6cf82075019c"
      },
      "outputs": [
        {
          "output_type": "display_data",
          "data": {
            "text/plain": [
              "interactive(children=(Dropdown(description='nm', options=('Age', 'SibSp', 'Parch', 'LogFare', 'Pclass'), value…"
            ],
            "application/vnd.jupyter.widget-view+json": {
              "version_major": 2,
              "version_minor": 0,
              "model_id": "31490fdd83c042688ddf2ba8e3ee3f1f"
            }
          },
          "metadata": {}
        }
      ],
      "source": [
        "def iscore(nm, split):\n",
        "    col = trn_xs[nm]\n",
        "    return score(col, trn_y, split)\n",
        "\n",
        "from ipywidgets import interact\n",
        "interact(nm=conts, split=15.5)(iscore);"
      ]
    },
    {
      "cell_type": "code",
      "execution_count": 28,
      "metadata": {
        "colab": {
          "base_uri": "https://localhost:8080/",
          "height": 98,
          "referenced_widgets": [
            "2574d0874cc841298f7ebd19df36bfa1",
            "5d95766b70754010aab14b04e6bb8c88",
            "d0d2e3cb9cdb4ba7b29396e8ac742095",
            "bc80fcb149d84dbdb28b3f86eb190a4e",
            "f589f58b74294c6d813e4b64d49f15fc",
            "6a777fb73aba42d69cbd1a04777a4d62",
            "eee1d9883ae543cb87db961ce1448f03",
            "9168817ca9d141c0b01def3ea809e0c1",
            "ebdb7017dcc64587bd108d3ee39cd670",
            "82f7e324856e41e0a19d6f56e17f86d6"
          ]
        },
        "id": "jI9Amd1VwlD3",
        "outputId": "ef2c0120-6012-4bae-cd40-fa5ef12ce263"
      },
      "outputs": [
        {
          "output_type": "display_data",
          "data": {
            "text/plain": [
              "interactive(children=(Dropdown(description='nm', options=('Sex', 'Embarked'), value='Sex'), IntSlider(value=2,…"
            ],
            "application/vnd.jupyter.widget-view+json": {
              "version_major": 2,
              "version_minor": 0,
              "model_id": "2574d0874cc841298f7ebd19df36bfa1"
            }
          },
          "metadata": {}
        }
      ],
      "source": [
        "interact(nm=cats, split=2)(iscore);"
      ]
    },
    {
      "cell_type": "code",
      "execution_count": 29,
      "metadata": {
        "colab": {
          "base_uri": "https://localhost:8080/"
        },
        "id": "_UiX326hwuFk",
        "outputId": "29c09690-651b-42ae-8e02-5c5a4b564406"
      },
      "outputs": [
        {
          "output_type": "execute_result",
          "data": {
            "text/plain": [
              "array([ 0.42,  0.67,  0.75,  0.83,  0.92,  1.  ,  2.  ,  3.  ,  4.  ,  5.  ,  6.  ,  7.  ,  8.  ,  9.  , 10.  , 11.  , 12.  ,\n",
              "       13.  , 14.  , 14.5 , 15.  , 16.  , 17.  , 18.  , 19.  , 20.  , 21.  , 22.  , 23.  , 24.  , 24.5 , 25.  , 26.  , 27.  ,\n",
              "       28.  , 28.5 , 29.  , 30.  , 31.  , 32.  , 32.5 , 33.  , 34.  , 34.5 , 35.  , 36.  , 36.5 , 37.  , 38.  , 39.  , 40.  ,\n",
              "       40.5 , 41.  , 42.  , 43.  , 44.  , 45.  , 45.5 , 46.  , 47.  , 48.  , 49.  , 50.  , 51.  , 52.  , 53.  , 54.  , 55.  ,\n",
              "       55.5 , 56.  , 57.  , 58.  , 59.  , 60.  , 61.  , 62.  , 64.  , 65.  , 70.  , 70.5 , 74.  , 80.  ])"
            ]
          },
          "metadata": {},
          "execution_count": 29
        }
      ],
      "source": [
        "nm = \"Age\"\n",
        "col = trn_xs[nm]\n",
        "unq = col.unique()\n",
        "unq.sort()\n",
        "unq"
      ]
    },
    {
      "cell_type": "code",
      "execution_count": 30,
      "metadata": {
        "colab": {
          "base_uri": "https://localhost:8080/"
        },
        "id": "UZLH0yglxApQ",
        "outputId": "6ebf48fc-d980-46bd-cd5e-5986bd102b8f"
      },
      "outputs": [
        {
          "output_type": "execute_result",
          "data": {
            "text/plain": [
              "6.0"
            ]
          },
          "metadata": {},
          "execution_count": 30
        }
      ],
      "source": [
        "scores = np.array([score(col, trn_y, o) for o in unq if not np.isnan(o)])\n",
        "unq[scores.argmin()]"
      ]
    },
    {
      "cell_type": "code",
      "execution_count": 31,
      "metadata": {
        "colab": {
          "base_uri": "https://localhost:8080/"
        },
        "id": "rCFhY1YqxHE3",
        "outputId": "f70df02e-a7c1-4e9e-ed55-5119fe66c1c8"
      },
      "outputs": [
        {
          "output_type": "execute_result",
          "data": {
            "text/plain": [
              "(6.0, 0.478316717508991)"
            ]
          },
          "metadata": {},
          "execution_count": 31
        }
      ],
      "source": [
        "def min_col(df, nm):\n",
        "    col,y = df[nm],df[dep]\n",
        "    unq = col.dropna().unique()\n",
        "    scores = np.array([score(col, y, o) for o in unq if not np.isnan(o)])\n",
        "    idx = scores.argmin()\n",
        "    return unq[idx],scores[idx]\n",
        "\n",
        "min_col(trn_df, \"Age\")"
      ]
    },
    {
      "cell_type": "code",
      "execution_count": 32,
      "metadata": {
        "colab": {
          "base_uri": "https://localhost:8080/"
        },
        "id": "dXADB1cGxIf5",
        "outputId": "f3e6600e-d954-40fb-ebc2-314dab04ddba"
      },
      "outputs": [
        {
          "output_type": "execute_result",
          "data": {
            "text/plain": [
              "{'Sex': (0, 0.40787530982063946),\n",
              " 'Embarked': (0, 0.47883342573147836),\n",
              " 'Age': (6.0, 0.478316717508991),\n",
              " 'SibSp': (4, 0.4783740258817434),\n",
              " 'Parch': (0, 0.4805296527841601),\n",
              " 'LogFare': (2.4390808375825834, 0.4620823937736597),\n",
              " 'Pclass': (2, 0.46048261885806596)}"
            ]
          },
          "metadata": {},
          "execution_count": 32
        }
      ],
      "source": [
        "cols = cats+conts\n",
        "{o:min_col(trn_df, o) for o in cols}"
      ]
    },
    {
      "cell_type": "markdown",
      "metadata": {
        "id": "dW6W1c68xbRh"
      },
      "source": [
        "## ***Creating a decision tree***"
      ]
    },
    {
      "cell_type": "code",
      "execution_count": 33,
      "metadata": {
        "id": "4AmR6Ls_xdZF"
      },
      "outputs": [],
      "source": [
        "cols.remove(\"Sex\")\n",
        "ismale = trn_df.Sex==1\n",
        "males,females = trn_df[ismale],trn_df[~ismale]"
      ]
    },
    {
      "cell_type": "code",
      "execution_count": 34,
      "metadata": {
        "colab": {
          "base_uri": "https://localhost:8080/"
        },
        "id": "1PZMTTpx5_Vq",
        "outputId": "a3b552c1-4cfb-4e35-edeb-04662d97a5aa"
      },
      "outputs": [
        {
          "output_type": "execute_result",
          "data": {
            "text/plain": [
              "{'Embarked': (0, 0.3875581870410906),\n",
              " 'Age': (6.0, 0.3739828371010595),\n",
              " 'SibSp': (4, 0.3875864227586273),\n",
              " 'Parch': (0, 0.3874704821461959),\n",
              " 'LogFare': (2.803360380906535, 0.3804856231758151),\n",
              " 'Pclass': (1, 0.38155442004360934)}"
            ]
          },
          "metadata": {},
          "execution_count": 34
        }
      ],
      "source": [
        "{o:min_col(males, o) for o in cols}"
      ]
    },
    {
      "cell_type": "code",
      "execution_count": 35,
      "metadata": {
        "colab": {
          "base_uri": "https://localhost:8080/"
        },
        "id": "kOD3KAzf6HoU",
        "outputId": "cc1e657d-db32-4ba0-e805-9fd33d5fab4d"
      },
      "outputs": [
        {
          "output_type": "execute_result",
          "data": {
            "text/plain": [
              "{'Embarked': (0, 0.4295252982857327),\n",
              " 'Age': (50.0, 0.4225927658431649),\n",
              " 'SibSp': (4, 0.42319212059713535),\n",
              " 'Parch': (3, 0.4193314500446158),\n",
              " 'LogFare': (4.256321678298823, 0.41350598332911376),\n",
              " 'Pclass': (2, 0.3335388911567601)}"
            ]
          },
          "metadata": {},
          "execution_count": 35
        }
      ],
      "source": [
        "{o:min_col(females, o) for o in cols}"
      ]
    },
    {
      "cell_type": "code",
      "execution_count": 36,
      "metadata": {
        "id": "zp14il196Xc1"
      },
      "outputs": [],
      "source": [
        "from sklearn.tree import DecisionTreeClassifier, export_graphviz\n",
        "\n",
        "m = DecisionTreeClassifier(max_leaf_nodes=4).fit(trn_xs, trn_y);"
      ]
    },
    {
      "cell_type": "code",
      "execution_count": 37,
      "metadata": {
        "id": "ZUeKltp_6bMi"
      },
      "outputs": [],
      "source": [
        "import graphviz\n",
        "\n",
        "def draw_tree(t, df, size=10, ratio=0.6, precision=2, **kwargs):\n",
        "    s=export_graphviz(t, out_file=None, feature_names=df.columns, filled=True, rounded=True,\n",
        "                      special_characters=True, rotate=False, precision=precision, **kwargs)\n",
        "    return graphviz.Source(re.sub('Tree {', f'Tree {{ size={size}; ratio={ratio}', s))"
      ]
    },
    {
      "cell_type": "code",
      "execution_count": 38,
      "metadata": {
        "colab": {
          "base_uri": "https://localhost:8080/",
          "height": 431
        },
        "id": "w9OYKdWM6eb5",
        "outputId": "0da49e81-0b2c-4af5-d1f4-56c4cace23f1"
      },
      "outputs": [
        {
          "output_type": "execute_result",
          "data": {
            "image/svg+xml": "<?xml version=\"1.0\" encoding=\"UTF-8\" standalone=\"no\"?>\n<!DOCTYPE svg PUBLIC \"-//W3C//DTD SVG 1.1//EN\"\n \"http://www.w3.org/Graphics/SVG/1.1/DTD/svg11.dtd\">\n<!-- Generated by graphviz version 2.43.0 (0)\n -->\n<!-- Title: Tree Pages: 1 -->\n<svg width=\"507pt\" height=\"307pt\"\n viewBox=\"0.00 0.00 506.50 306.80\" xmlns=\"http://www.w3.org/2000/svg\" xmlns:xlink=\"http://www.w3.org/1999/xlink\">\n<g id=\"graph0\" class=\"graph\" transform=\"scale(1 1) rotate(0) translate(4 302.8)\">\n<title>Tree</title>\n<polygon fill=\"white\" stroke=\"transparent\" points=\"-4,4 -4,-302.8 502.5,-302.8 502.5,4 -4,4\"/>\n<!-- 0 -->\n<g id=\"node1\" class=\"node\">\n<title>0</title>\n<path fill=\"#f5ceb2\" stroke=\"black\" d=\"M297.5,-294C297.5,-294 196.5,-294 196.5,-294 190.5,-294 184.5,-288 184.5,-282 184.5,-282 184.5,-238 184.5,-238 184.5,-232 190.5,-226 196.5,-226 196.5,-226 297.5,-226 297.5,-226 303.5,-226 309.5,-232 309.5,-238 309.5,-238 309.5,-282 309.5,-282 309.5,-288 303.5,-294 297.5,-294\"/>\n<text text-anchor=\"start\" x=\"218\" y=\"-278.8\" font-family=\"Helvetica,sans-Serif\" font-size=\"14.00\">Sex ≤ 0.5</text>\n<text text-anchor=\"start\" x=\"215\" y=\"-263.8\" font-family=\"Helvetica,sans-Serif\" font-size=\"14.00\">gini = 0.47</text>\n<text text-anchor=\"start\" x=\"202\" y=\"-248.8\" font-family=\"Helvetica,sans-Serif\" font-size=\"14.00\">samples = 668</text>\n<text text-anchor=\"start\" x=\"192.5\" y=\"-233.8\" font-family=\"Helvetica,sans-Serif\" font-size=\"14.00\">value = [415, 253]</text>\n</g>\n<!-- 1 -->\n<g id=\"node2\" class=\"node\">\n<title>1</title>\n<path fill=\"#7ebfee\" stroke=\"black\" d=\"M226.5,-175C226.5,-175 133.5,-175 133.5,-175 127.5,-175 121.5,-169 121.5,-163 121.5,-163 121.5,-119 121.5,-119 121.5,-113 127.5,-107 133.5,-107 133.5,-107 226.5,-107 226.5,-107 232.5,-107 238.5,-113 238.5,-119 238.5,-119 238.5,-163 238.5,-163 238.5,-169 232.5,-175 226.5,-175\"/>\n<text text-anchor=\"start\" x=\"143\" y=\"-159.8\" font-family=\"Helvetica,sans-Serif\" font-size=\"14.00\">Pclass ≤ 2.5</text>\n<text text-anchor=\"start\" x=\"148\" y=\"-144.8\" font-family=\"Helvetica,sans-Serif\" font-size=\"14.00\">gini = 0.38</text>\n<text text-anchor=\"start\" x=\"135\" y=\"-129.8\" font-family=\"Helvetica,sans-Serif\" font-size=\"14.00\">samples = 229</text>\n<text text-anchor=\"start\" x=\"129.5\" y=\"-114.8\" font-family=\"Helvetica,sans-Serif\" font-size=\"14.00\">value = [59, 170]</text>\n</g>\n<!-- 0&#45;&gt;1 -->\n<g id=\"edge1\" class=\"edge\">\n<title>0&#45;&gt;1</title>\n<path fill=\"none\" stroke=\"black\" d=\"M227.98,-225.79C220.55,-212.82 211.95,-197.8 204.1,-184.08\"/>\n<polygon fill=\"black\" stroke=\"black\" points=\"207.07,-182.24 199.07,-175.3 201,-185.71 207.07,-182.24\"/>\n<text text-anchor=\"middle\" x=\"192.51\" y=\"-195.72\" font-family=\"Helvetica,sans-Serif\" font-size=\"14.00\">True</text>\n</g>\n<!-- 2 -->\n<g id=\"node5\" class=\"node\">\n<title>2</title>\n<path fill=\"#eb9e67\" stroke=\"black\" d=\"M361.5,-175C361.5,-175 268.5,-175 268.5,-175 262.5,-175 256.5,-169 256.5,-163 256.5,-163 256.5,-119 256.5,-119 256.5,-113 262.5,-107 268.5,-107 268.5,-107 361.5,-107 361.5,-107 367.5,-107 373.5,-113 373.5,-119 373.5,-119 373.5,-163 373.5,-163 373.5,-169 367.5,-175 361.5,-175\"/>\n<text text-anchor=\"start\" x=\"286\" y=\"-159.8\" font-family=\"Helvetica,sans-Serif\" font-size=\"14.00\">Age ≤ 6.5</text>\n<text text-anchor=\"start\" x=\"283\" y=\"-144.8\" font-family=\"Helvetica,sans-Serif\" font-size=\"14.00\">gini = 0.31</text>\n<text text-anchor=\"start\" x=\"270\" y=\"-129.8\" font-family=\"Helvetica,sans-Serif\" font-size=\"14.00\">samples = 439</text>\n<text text-anchor=\"start\" x=\"264.5\" y=\"-114.8\" font-family=\"Helvetica,sans-Serif\" font-size=\"14.00\">value = [356, 83]</text>\n</g>\n<!-- 0&#45;&gt;2 -->\n<g id=\"edge4\" class=\"edge\">\n<title>0&#45;&gt;2</title>\n<path fill=\"none\" stroke=\"black\" d=\"M266.3,-225.79C273.84,-212.82 282.57,-197.8 290.54,-184.08\"/>\n<polygon fill=\"black\" stroke=\"black\" points=\"293.65,-185.7 295.65,-175.3 287.6,-182.18 293.65,-185.7\"/>\n<text text-anchor=\"middle\" x=\"302.05\" y=\"-195.76\" font-family=\"Helvetica,sans-Serif\" font-size=\"14.00\">False</text>\n</g>\n<!-- 3 -->\n<g id=\"node3\" class=\"node\">\n<title>3</title>\n<path fill=\"#40a0e6\" stroke=\"black\" d=\"M98,-56.5C98,-56.5 12,-56.5 12,-56.5 6,-56.5 0,-50.5 0,-44.5 0,-44.5 0,-15.5 0,-15.5 0,-9.5 6,-3.5 12,-3.5 12,-3.5 98,-3.5 98,-3.5 104,-3.5 110,-9.5 110,-15.5 110,-15.5 110,-44.5 110,-44.5 110,-50.5 104,-56.5 98,-56.5\"/>\n<text text-anchor=\"start\" x=\"23\" y=\"-41.3\" font-family=\"Helvetica,sans-Serif\" font-size=\"14.00\">gini = 0.06</text>\n<text text-anchor=\"start\" x=\"10\" y=\"-26.3\" font-family=\"Helvetica,sans-Serif\" font-size=\"14.00\">samples = 120</text>\n<text text-anchor=\"start\" x=\"8\" y=\"-11.3\" font-family=\"Helvetica,sans-Serif\" font-size=\"14.00\">value = [4, 116]</text>\n</g>\n<!-- 1&#45;&gt;3 -->\n<g id=\"edge2\" class=\"edge\">\n<title>1&#45;&gt;3</title>\n<path fill=\"none\" stroke=\"black\" d=\"M141.82,-106.7C126.16,-93.06 108.1,-77.31 92.52,-63.72\"/>\n<polygon fill=\"black\" stroke=\"black\" points=\"94.46,-60.77 84.62,-56.83 89.86,-66.04 94.46,-60.77\"/>\n</g>\n<!-- 4 -->\n<g id=\"node4\" class=\"node\">\n<title>4</title>\n<path fill=\"#fffdfb\" stroke=\"black\" d=\"M226,-56.5C226,-56.5 140,-56.5 140,-56.5 134,-56.5 128,-50.5 128,-44.5 128,-44.5 128,-15.5 128,-15.5 128,-9.5 134,-3.5 140,-3.5 140,-3.5 226,-3.5 226,-3.5 232,-3.5 238,-9.5 238,-15.5 238,-15.5 238,-44.5 238,-44.5 238,-50.5 232,-56.5 226,-56.5\"/>\n<text text-anchor=\"start\" x=\"155\" y=\"-41.3\" font-family=\"Helvetica,sans-Serif\" font-size=\"14.00\">gini = 0.5</text>\n<text text-anchor=\"start\" x=\"138\" y=\"-26.3\" font-family=\"Helvetica,sans-Serif\" font-size=\"14.00\">samples = 109</text>\n<text text-anchor=\"start\" x=\"136\" y=\"-11.3\" font-family=\"Helvetica,sans-Serif\" font-size=\"14.00\">value = [55, 54]</text>\n</g>\n<!-- 1&#45;&gt;4 -->\n<g id=\"edge3\" class=\"edge\">\n<title>1&#45;&gt;4</title>\n<path fill=\"none\" stroke=\"black\" d=\"M180.92,-106.7C181.26,-94.18 181.65,-79.89 182.01,-67.13\"/>\n<polygon fill=\"black\" stroke=\"black\" points=\"185.51,-66.92 182.29,-56.83 178.52,-66.73 185.51,-66.92\"/>\n</g>\n<!-- 5 -->\n<g id=\"node6\" class=\"node\">\n<title>5</title>\n<path fill=\"#88c4ef\" stroke=\"black\" d=\"M351,-56.5C351,-56.5 273,-56.5 273,-56.5 267,-56.5 261,-50.5 261,-44.5 261,-44.5 261,-15.5 261,-15.5 261,-9.5 267,-3.5 273,-3.5 273,-3.5 351,-3.5 351,-3.5 357,-3.5 363,-9.5 363,-15.5 363,-15.5 363,-44.5 363,-44.5 363,-50.5 357,-56.5 351,-56.5\"/>\n<text text-anchor=\"start\" x=\"280\" y=\"-41.3\" font-family=\"Helvetica,sans-Serif\" font-size=\"14.00\">gini = 0.41</text>\n<text text-anchor=\"start\" x=\"271\" y=\"-26.3\" font-family=\"Helvetica,sans-Serif\" font-size=\"14.00\">samples = 21</text>\n<text text-anchor=\"start\" x=\"269\" y=\"-11.3\" font-family=\"Helvetica,sans-Serif\" font-size=\"14.00\">value = [6, 15]</text>\n</g>\n<!-- 2&#45;&gt;5 -->\n<g id=\"edge5\" class=\"edge\">\n<title>2&#45;&gt;5</title>\n<path fill=\"none\" stroke=\"black\" d=\"M314.08,-106.7C313.74,-94.18 313.35,-79.89 312.99,-67.13\"/>\n<polygon fill=\"black\" stroke=\"black\" points=\"316.48,-66.73 312.71,-56.83 309.49,-66.92 316.48,-66.73\"/>\n</g>\n<!-- 6 -->\n<g id=\"node7\" class=\"node\">\n<title>6</title>\n<path fill=\"#ea995f\" stroke=\"black\" d=\"M486.5,-56.5C486.5,-56.5 393.5,-56.5 393.5,-56.5 387.5,-56.5 381.5,-50.5 381.5,-44.5 381.5,-44.5 381.5,-15.5 381.5,-15.5 381.5,-9.5 387.5,-3.5 393.5,-3.5 393.5,-3.5 486.5,-3.5 486.5,-3.5 492.5,-3.5 498.5,-9.5 498.5,-15.5 498.5,-15.5 498.5,-44.5 498.5,-44.5 498.5,-50.5 492.5,-56.5 486.5,-56.5\"/>\n<text text-anchor=\"start\" x=\"408\" y=\"-41.3\" font-family=\"Helvetica,sans-Serif\" font-size=\"14.00\">gini = 0.27</text>\n<text text-anchor=\"start\" x=\"395\" y=\"-26.3\" font-family=\"Helvetica,sans-Serif\" font-size=\"14.00\">samples = 418</text>\n<text text-anchor=\"start\" x=\"389.5\" y=\"-11.3\" font-family=\"Helvetica,sans-Serif\" font-size=\"14.00\">value = [350, 68]</text>\n</g>\n<!-- 2&#45;&gt;6 -->\n<g id=\"edge6\" class=\"edge\">\n<title>2&#45;&gt;6</title>\n<path fill=\"none\" stroke=\"black\" d=\"M353.18,-106.7C368.84,-93.06 386.9,-77.31 402.48,-63.72\"/>\n<polygon fill=\"black\" stroke=\"black\" points=\"405.14,-66.04 410.38,-56.83 400.54,-60.77 405.14,-66.04\"/>\n</g>\n</g>\n</svg>\n",
            "text/plain": [
              "<graphviz.sources.Source at 0x7febff36ada0>"
            ]
          },
          "metadata": {},
          "execution_count": 38
        }
      ],
      "source": [
        "draw_tree(m, trn_xs, size=10)"
      ]
    },
    {
      "cell_type": "code",
      "execution_count": 39,
      "metadata": {
        "id": "0KcgJvDd6xBI"
      },
      "outputs": [],
      "source": [
        "def gini(cond):\n",
        "    act = df.loc[cond, dep]\n",
        "    return 1 - act.mean()**2 - (1-act).mean()**2"
      ]
    },
    {
      "cell_type": "code",
      "execution_count": 40,
      "metadata": {
        "colab": {
          "base_uri": "https://localhost:8080/"
        },
        "id": "OWu-SmX562Hx",
        "outputId": "f59d0503-e4fd-4b0b-c63b-d45bd4de1754"
      },
      "outputs": [
        {
          "output_type": "execute_result",
          "data": {
            "text/plain": [
              "(0.3828350034484158, 0.3064437162277842)"
            ]
          },
          "metadata": {},
          "execution_count": 40
        }
      ],
      "source": [
        "gini(df.Sex=='female'), gini(df.Sex=='male')"
      ]
    },
    {
      "cell_type": "code",
      "execution_count": 41,
      "metadata": {
        "colab": {
          "base_uri": "https://localhost:8080/"
        },
        "id": "K11VZ5U-62TG",
        "outputId": "3eef7a84-b0ad-4e74-ef7d-ac862dce9714"
      },
      "outputs": [
        {
          "output_type": "execute_result",
          "data": {
            "text/plain": [
              "0.2242152466367713"
            ]
          },
          "metadata": {},
          "execution_count": 41
        }
      ],
      "source": [
        "mean_absolute_error(val_y, m.predict(val_xs))"
      ]
    },
    {
      "cell_type": "code",
      "execution_count": 42,
      "metadata": {
        "colab": {
          "base_uri": "https://localhost:8080/",
          "height": 716
        },
        "id": "9iWyxNPa7L0-",
        "outputId": "d38f8c03-06e5-44dd-f77c-8d3ec3f6d4ab"
      },
      "outputs": [
        {
          "output_type": "execute_result",
          "data": {
            "image/svg+xml": "<?xml version=\"1.0\" encoding=\"UTF-8\" standalone=\"no\"?>\n<!DOCTYPE svg PUBLIC \"-//W3C//DTD SVG 1.1//EN\"\n \"http://www.w3.org/Graphics/SVG/1.1/DTD/svg11.dtd\">\n<!-- Generated by graphviz version 2.43.0 (0)\n -->\n<!-- Title: Tree Pages: 1 -->\n<svg width=\"864pt\" height=\"521pt\"\n viewBox=\"0.00 0.00 864.00 520.83\" xmlns=\"http://www.w3.org/2000/svg\" xmlns:xlink=\"http://www.w3.org/1999/xlink\">\n<g id=\"graph0\" class=\"graph\" transform=\"scale(1.32 1.32) rotate(0) translate(4 681)\">\n<title>Tree</title>\n<polygon fill=\"white\" stroke=\"transparent\" points=\"-4,4 -4,-681 1132.33,-681 1132.33,4 -4,4\"/>\n<!-- 0 -->\n<g id=\"node1\" class=\"node\">\n<title>0</title>\n<path fill=\"#f5ceb2\" stroke=\"black\" d=\"M596.8,-677C596.8,-677 495.8,-677 495.8,-677 489.8,-677 483.8,-671 483.8,-665 483.8,-665 483.8,-621 483.8,-621 483.8,-615 489.8,-609 495.8,-609 495.8,-609 596.8,-609 596.8,-609 602.8,-609 608.8,-615 608.8,-621 608.8,-621 608.8,-665 608.8,-665 608.8,-671 602.8,-677 596.8,-677\"/>\n<text text-anchor=\"start\" x=\"517.3\" y=\"-661.8\" font-family=\"Helvetica,sans-Serif\" font-size=\"14.00\">Sex ≤ 0.5</text>\n<text text-anchor=\"start\" x=\"514.3\" y=\"-646.8\" font-family=\"Helvetica,sans-Serif\" font-size=\"14.00\">gini = 0.47</text>\n<text text-anchor=\"start\" x=\"501.3\" y=\"-631.8\" font-family=\"Helvetica,sans-Serif\" font-size=\"14.00\">samples = 668</text>\n<text text-anchor=\"start\" x=\"491.8\" y=\"-616.8\" font-family=\"Helvetica,sans-Serif\" font-size=\"14.00\">value = [415, 253]</text>\n</g>\n<!-- 1 -->\n<g id=\"node2\" class=\"node\">\n<title>1</title>\n<path fill=\"#7ebfee\" stroke=\"black\" d=\"M449.8,-573C449.8,-573 356.8,-573 356.8,-573 350.8,-573 344.8,-567 344.8,-561 344.8,-561 344.8,-517 344.8,-517 344.8,-511 350.8,-505 356.8,-505 356.8,-505 449.8,-505 449.8,-505 455.8,-505 461.8,-511 461.8,-517 461.8,-517 461.8,-561 461.8,-561 461.8,-567 455.8,-573 449.8,-573\"/>\n<text text-anchor=\"start\" x=\"366.3\" y=\"-557.8\" font-family=\"Helvetica,sans-Serif\" font-size=\"14.00\">Pclass ≤ 2.5</text>\n<text text-anchor=\"start\" x=\"371.3\" y=\"-542.8\" font-family=\"Helvetica,sans-Serif\" font-size=\"14.00\">gini = 0.38</text>\n<text text-anchor=\"start\" x=\"358.3\" y=\"-527.8\" font-family=\"Helvetica,sans-Serif\" font-size=\"14.00\">samples = 229</text>\n<text text-anchor=\"start\" x=\"352.8\" y=\"-512.8\" font-family=\"Helvetica,sans-Serif\" font-size=\"14.00\">value = [59, 170]</text>\n</g>\n<!-- 0&#45;&gt;1 -->\n<g id=\"edge1\" class=\"edge\">\n<title>0&#45;&gt;1</title>\n<path fill=\"none\" stroke=\"black\" d=\"M499.88,-608.88C486.64,-599.44 472.09,-589.06 458.39,-579.29\"/>\n<polygon fill=\"black\" stroke=\"black\" points=\"460.16,-576.26 449.99,-573.3 456.1,-581.96 460.16,-576.26\"/>\n<text text-anchor=\"middle\" x=\"454.11\" y=\"-594.26\" font-family=\"Helvetica,sans-Serif\" font-size=\"14.00\">True</text>\n</g>\n<!-- 8 -->\n<g id=\"node9\" class=\"node\">\n<title>8</title>\n<path fill=\"#eb9e67\" stroke=\"black\" d=\"M743.8,-573C743.8,-573 650.8,-573 650.8,-573 644.8,-573 638.8,-567 638.8,-561 638.8,-561 638.8,-517 638.8,-517 638.8,-511 644.8,-505 650.8,-505 650.8,-505 743.8,-505 743.8,-505 749.8,-505 755.8,-511 755.8,-517 755.8,-517 755.8,-561 755.8,-561 755.8,-567 749.8,-573 743.8,-573\"/>\n<text text-anchor=\"start\" x=\"651.3\" y=\"-557.8\" font-family=\"Helvetica,sans-Serif\" font-size=\"14.00\">LogFare ≤ 3.31</text>\n<text text-anchor=\"start\" x=\"665.3\" y=\"-542.8\" font-family=\"Helvetica,sans-Serif\" font-size=\"14.00\">gini = 0.31</text>\n<text text-anchor=\"start\" x=\"652.3\" y=\"-527.8\" font-family=\"Helvetica,sans-Serif\" font-size=\"14.00\">samples = 439</text>\n<text text-anchor=\"start\" x=\"646.8\" y=\"-512.8\" font-family=\"Helvetica,sans-Serif\" font-size=\"14.00\">value = [356, 83]</text>\n</g>\n<!-- 0&#45;&gt;8 -->\n<g id=\"edge8\" class=\"edge\">\n<title>0&#45;&gt;8</title>\n<path fill=\"none\" stroke=\"black\" d=\"M595.33,-608.88C609.51,-599.3 625.12,-588.76 639.77,-578.86\"/>\n<polygon fill=\"black\" stroke=\"black\" points=\"641.94,-581.62 648.27,-573.12 638.02,-575.82 641.94,-581.62\"/>\n<text text-anchor=\"middle\" x=\"643.51\" y=\"-593.97\" font-family=\"Helvetica,sans-Serif\" font-size=\"14.00\">False</text>\n</g>\n<!-- 2 -->\n<g id=\"node3\" class=\"node\">\n<title>2</title>\n<path fill=\"#40a0e6\" stroke=\"black\" d=\"M236.3,-469C236.3,-469 150.3,-469 150.3,-469 144.3,-469 138.3,-463 138.3,-457 138.3,-457 138.3,-413 138.3,-413 138.3,-407 144.3,-401 150.3,-401 150.3,-401 236.3,-401 236.3,-401 242.3,-401 248.3,-407 248.3,-413 248.3,-413 248.3,-457 248.3,-457 248.3,-463 242.3,-469 236.3,-469\"/>\n<text text-anchor=\"start\" x=\"158.3\" y=\"-453.8\" font-family=\"Helvetica,sans-Serif\" font-size=\"14.00\">SibSp ≤ 0.5</text>\n<text text-anchor=\"start\" x=\"161.3\" y=\"-438.8\" font-family=\"Helvetica,sans-Serif\" font-size=\"14.00\">gini = 0.06</text>\n<text text-anchor=\"start\" x=\"148.3\" y=\"-423.8\" font-family=\"Helvetica,sans-Serif\" font-size=\"14.00\">samples = 120</text>\n<text text-anchor=\"start\" x=\"146.3\" y=\"-408.8\" font-family=\"Helvetica,sans-Serif\" font-size=\"14.00\">value = [4, 116]</text>\n</g>\n<!-- 1&#45;&gt;2 -->\n<g id=\"edge2\" class=\"edge\">\n<title>1&#45;&gt;2</title>\n<path fill=\"none\" stroke=\"black\" d=\"M344.53,-509.45C317.49,-496.32 285.35,-480.71 257.66,-467.26\"/>\n<polygon fill=\"black\" stroke=\"black\" points=\"258.98,-464.01 248.46,-462.79 255.92,-470.31 258.98,-464.01\"/>\n</g>\n<!-- 5 -->\n<g id=\"node6\" class=\"node\">\n<title>5</title>\n<path fill=\"#fffdfb\" stroke=\"black\" d=\"M446.3,-469C446.3,-469 360.3,-469 360.3,-469 354.3,-469 348.3,-463 348.3,-457 348.3,-457 348.3,-413 348.3,-413 348.3,-407 354.3,-401 360.3,-401 360.3,-401 446.3,-401 446.3,-401 452.3,-401 458.3,-407 458.3,-413 458.3,-413 458.3,-457 458.3,-457 458.3,-463 452.3,-469 446.3,-469\"/>\n<text text-anchor=\"start\" x=\"360.8\" y=\"-453.8\" font-family=\"Helvetica,sans-Serif\" font-size=\"14.00\">LogFare ≤ 2.7</text>\n<text text-anchor=\"start\" x=\"375.3\" y=\"-438.8\" font-family=\"Helvetica,sans-Serif\" font-size=\"14.00\">gini = 0.5</text>\n<text text-anchor=\"start\" x=\"358.3\" y=\"-423.8\" font-family=\"Helvetica,sans-Serif\" font-size=\"14.00\">samples = 109</text>\n<text text-anchor=\"start\" x=\"356.3\" y=\"-408.8\" font-family=\"Helvetica,sans-Serif\" font-size=\"14.00\">value = [55, 54]</text>\n</g>\n<!-- 1&#45;&gt;5 -->\n<g id=\"edge5\" class=\"edge\">\n<title>1&#45;&gt;5</title>\n<path fill=\"none\" stroke=\"black\" d=\"M403.3,-504.88C403.3,-496.78 403.3,-487.98 403.3,-479.47\"/>\n<polygon fill=\"black\" stroke=\"black\" points=\"406.8,-479.3 403.3,-469.3 399.8,-479.3 406.8,-479.3\"/>\n</g>\n<!-- 3 -->\n<g id=\"node4\" class=\"node\">\n<title>3</title>\n<path fill=\"#3c9ee5\" stroke=\"black\" d=\"M96.3,-357.5C96.3,-357.5 18.3,-357.5 18.3,-357.5 12.3,-357.5 6.3,-351.5 6.3,-345.5 6.3,-345.5 6.3,-316.5 6.3,-316.5 6.3,-310.5 12.3,-304.5 18.3,-304.5 18.3,-304.5 96.3,-304.5 96.3,-304.5 102.3,-304.5 108.3,-310.5 108.3,-316.5 108.3,-316.5 108.3,-345.5 108.3,-345.5 108.3,-351.5 102.3,-357.5 96.3,-357.5\"/>\n<text text-anchor=\"start\" x=\"25.3\" y=\"-342.3\" font-family=\"Helvetica,sans-Serif\" font-size=\"14.00\">gini = 0.03</text>\n<text text-anchor=\"start\" x=\"16.3\" y=\"-327.3\" font-family=\"Helvetica,sans-Serif\" font-size=\"14.00\">samples = 67</text>\n<text text-anchor=\"start\" x=\"14.3\" y=\"-312.3\" font-family=\"Helvetica,sans-Serif\" font-size=\"14.00\">value = [1, 66]</text>\n</g>\n<!-- 2&#45;&gt;3 -->\n<g id=\"edge3\" class=\"edge\">\n<title>2&#45;&gt;3</title>\n<path fill=\"none\" stroke=\"black\" d=\"M149.15,-400.88C133.17,-388.9 115.17,-375.4 99.37,-363.55\"/>\n<polygon fill=\"black\" stroke=\"black\" points=\"101.43,-360.72 91.33,-357.52 97.23,-366.32 101.43,-360.72\"/>\n</g>\n<!-- 4 -->\n<g id=\"node5\" class=\"node\">\n<title>4</title>\n<path fill=\"#45a3e7\" stroke=\"black\" d=\"M232.3,-357.5C232.3,-357.5 154.3,-357.5 154.3,-357.5 148.3,-357.5 142.3,-351.5 142.3,-345.5 142.3,-345.5 142.3,-316.5 142.3,-316.5 142.3,-310.5 148.3,-304.5 154.3,-304.5 154.3,-304.5 232.3,-304.5 232.3,-304.5 238.3,-304.5 244.3,-310.5 244.3,-316.5 244.3,-316.5 244.3,-345.5 244.3,-345.5 244.3,-351.5 238.3,-357.5 232.3,-357.5\"/>\n<text text-anchor=\"start\" x=\"161.3\" y=\"-342.3\" font-family=\"Helvetica,sans-Serif\" font-size=\"14.00\">gini = 0.11</text>\n<text text-anchor=\"start\" x=\"152.3\" y=\"-327.3\" font-family=\"Helvetica,sans-Serif\" font-size=\"14.00\">samples = 53</text>\n<text text-anchor=\"start\" x=\"150.3\" y=\"-312.3\" font-family=\"Helvetica,sans-Serif\" font-size=\"14.00\">value = [3, 50]</text>\n</g>\n<!-- 2&#45;&gt;4 -->\n<g id=\"edge4\" class=\"edge\">\n<title>2&#45;&gt;4</title>\n<path fill=\"none\" stroke=\"black\" d=\"M193.3,-400.88C193.3,-390.33 193.3,-378.6 193.3,-367.85\"/>\n<polygon fill=\"black\" stroke=\"black\" points=\"196.8,-367.52 193.3,-357.52 189.8,-367.52 196.8,-367.52\"/>\n</g>\n<!-- 6 -->\n<g id=\"node7\" class=\"node\">\n<title>6</title>\n<path fill=\"#cbe5f8\" stroke=\"black\" d=\"M376.3,-357.5C376.3,-357.5 290.3,-357.5 290.3,-357.5 284.3,-357.5 278.3,-351.5 278.3,-345.5 278.3,-345.5 278.3,-316.5 278.3,-316.5 278.3,-310.5 284.3,-304.5 290.3,-304.5 290.3,-304.5 376.3,-304.5 376.3,-304.5 382.3,-304.5 388.3,-310.5 388.3,-316.5 388.3,-316.5 388.3,-345.5 388.3,-345.5 388.3,-351.5 382.3,-357.5 376.3,-357.5\"/>\n<text text-anchor=\"start\" x=\"301.3\" y=\"-342.3\" font-family=\"Helvetica,sans-Serif\" font-size=\"14.00\">gini = 0.49</text>\n<text text-anchor=\"start\" x=\"292.3\" y=\"-327.3\" font-family=\"Helvetica,sans-Serif\" font-size=\"14.00\">samples = 59</text>\n<text text-anchor=\"start\" x=\"286.3\" y=\"-312.3\" font-family=\"Helvetica,sans-Serif\" font-size=\"14.00\">value = [25, 34]</text>\n</g>\n<!-- 5&#45;&gt;6 -->\n<g id=\"edge6\" class=\"edge\">\n<title>5&#45;&gt;6</title>\n<path fill=\"none\" stroke=\"black\" d=\"M380.58,-400.88C372.88,-389.67 364.27,-377.13 356.54,-365.85\"/>\n<polygon fill=\"black\" stroke=\"black\" points=\"359.36,-363.78 350.82,-357.52 353.59,-367.75 359.36,-363.78\"/>\n</g>\n<!-- 7 -->\n<g id=\"node8\" class=\"node\">\n<title>7</title>\n<path fill=\"#f6d5bd\" stroke=\"black\" d=\"M521.3,-357.5C521.3,-357.5 435.3,-357.5 435.3,-357.5 429.3,-357.5 423.3,-351.5 423.3,-345.5 423.3,-345.5 423.3,-316.5 423.3,-316.5 423.3,-310.5 429.3,-304.5 435.3,-304.5 435.3,-304.5 521.3,-304.5 521.3,-304.5 527.3,-304.5 533.3,-310.5 533.3,-316.5 533.3,-316.5 533.3,-345.5 533.3,-345.5 533.3,-351.5 527.3,-357.5 521.3,-357.5\"/>\n<text text-anchor=\"start\" x=\"446.3\" y=\"-342.3\" font-family=\"Helvetica,sans-Serif\" font-size=\"14.00\">gini = 0.48</text>\n<text text-anchor=\"start\" x=\"437.3\" y=\"-327.3\" font-family=\"Helvetica,sans-Serif\" font-size=\"14.00\">samples = 50</text>\n<text text-anchor=\"start\" x=\"431.3\" y=\"-312.3\" font-family=\"Helvetica,sans-Serif\" font-size=\"14.00\">value = [30, 20]</text>\n</g>\n<!-- 5&#45;&gt;7 -->\n<g id=\"edge7\" class=\"edge\">\n<title>5&#45;&gt;7</title>\n<path fill=\"none\" stroke=\"black\" d=\"M427.65,-400.88C435.9,-389.67 445.12,-377.13 453.41,-365.85\"/>\n<polygon fill=\"black\" stroke=\"black\" points=\"456.44,-367.65 459.54,-357.52 450.8,-363.5 456.44,-367.65\"/>\n</g>\n<!-- 9 -->\n<g id=\"node10\" class=\"node\">\n<title>9</title>\n<path fill=\"#e99659\" stroke=\"black\" d=\"M743.8,-469C743.8,-469 650.8,-469 650.8,-469 644.8,-469 638.8,-463 638.8,-457 638.8,-457 638.8,-413 638.8,-413 638.8,-407 644.8,-401 650.8,-401 650.8,-401 743.8,-401 743.8,-401 749.8,-401 755.8,-407 755.8,-413 755.8,-413 755.8,-457 755.8,-457 755.8,-463 749.8,-469 743.8,-469\"/>\n<text text-anchor=\"start\" x=\"664.3\" y=\"-453.8\" font-family=\"Helvetica,sans-Serif\" font-size=\"14.00\">Age ≤ 20.5</text>\n<text text-anchor=\"start\" x=\"665.3\" y=\"-438.8\" font-family=\"Helvetica,sans-Serif\" font-size=\"14.00\">gini = 0.24</text>\n<text text-anchor=\"start\" x=\"652.3\" y=\"-423.8\" font-family=\"Helvetica,sans-Serif\" font-size=\"14.00\">samples = 320</text>\n<text text-anchor=\"start\" x=\"646.8\" y=\"-408.8\" font-family=\"Helvetica,sans-Serif\" font-size=\"14.00\">value = [275, 45]</text>\n</g>\n<!-- 8&#45;&gt;9 -->\n<g id=\"edge9\" class=\"edge\">\n<title>8&#45;&gt;9</title>\n<path fill=\"none\" stroke=\"black\" d=\"M697.3,-504.88C697.3,-496.78 697.3,-487.98 697.3,-479.47\"/>\n<polygon fill=\"black\" stroke=\"black\" points=\"700.8,-479.3 697.3,-469.3 693.8,-479.3 700.8,-479.3\"/>\n</g>\n<!-- 18 -->\n<g id=\"node19\" class=\"node\">\n<title>18</title>\n<path fill=\"#f1bc96\" stroke=\"black\" d=\"M964.3,-469C964.3,-469 878.3,-469 878.3,-469 872.3,-469 866.3,-463 866.3,-457 866.3,-457 866.3,-413 866.3,-413 866.3,-407 872.3,-401 878.3,-401 878.3,-401 964.3,-401 964.3,-401 970.3,-401 976.3,-407 976.3,-413 976.3,-413 976.3,-457 976.3,-457 976.3,-463 970.3,-469 964.3,-469\"/>\n<text text-anchor=\"start\" x=\"886.3\" y=\"-453.8\" font-family=\"Helvetica,sans-Serif\" font-size=\"14.00\">SibSp ≤ 0.5</text>\n<text text-anchor=\"start\" x=\"889.3\" y=\"-438.8\" font-family=\"Helvetica,sans-Serif\" font-size=\"14.00\">gini = 0.43</text>\n<text text-anchor=\"start\" x=\"876.3\" y=\"-423.8\" font-family=\"Helvetica,sans-Serif\" font-size=\"14.00\">samples = 119</text>\n<text text-anchor=\"start\" x=\"874.3\" y=\"-408.8\" font-family=\"Helvetica,sans-Serif\" font-size=\"14.00\">value = [81, 38]</text>\n</g>\n<!-- 8&#45;&gt;18 -->\n<g id=\"edge18\" class=\"edge\">\n<title>8&#45;&gt;18</title>\n<path fill=\"none\" stroke=\"black\" d=\"M755.86,-511.33C786.89,-497.2 825.07,-479.82 856.93,-465.31\"/>\n<polygon fill=\"black\" stroke=\"black\" points=\"858.52,-468.44 866.17,-461.11 855.61,-462.07 858.52,-468.44\"/>\n</g>\n<!-- 10 -->\n<g id=\"node11\" class=\"node\">\n<title>10</title>\n<path fill=\"#f1b992\" stroke=\"black\" d=\"M666.3,-357.5C666.3,-357.5 580.3,-357.5 580.3,-357.5 574.3,-357.5 568.3,-351.5 568.3,-345.5 568.3,-345.5 568.3,-316.5 568.3,-316.5 568.3,-310.5 574.3,-304.5 580.3,-304.5 580.3,-304.5 666.3,-304.5 666.3,-304.5 672.3,-304.5 678.3,-310.5 678.3,-316.5 678.3,-316.5 678.3,-345.5 678.3,-345.5 678.3,-351.5 672.3,-357.5 666.3,-357.5\"/>\n<text text-anchor=\"start\" x=\"591.3\" y=\"-342.3\" font-family=\"Helvetica,sans-Serif\" font-size=\"14.00\">gini = 0.43</text>\n<text text-anchor=\"start\" x=\"582.3\" y=\"-327.3\" font-family=\"Helvetica,sans-Serif\" font-size=\"14.00\">samples = 55</text>\n<text text-anchor=\"start\" x=\"576.3\" y=\"-312.3\" font-family=\"Helvetica,sans-Serif\" font-size=\"14.00\">value = [38, 17]</text>\n</g>\n<!-- 9&#45;&gt;10 -->\n<g id=\"edge10\" class=\"edge\">\n<title>9&#45;&gt;10</title>\n<path fill=\"none\" stroke=\"black\" d=\"M673.28,-400.88C665.14,-389.67 656.04,-377.13 647.86,-365.85\"/>\n<polygon fill=\"black\" stroke=\"black\" points=\"650.52,-363.56 641.82,-357.52 644.86,-367.67 650.52,-363.56\"/>\n</g>\n<!-- 11 -->\n<g id=\"node12\" class=\"node\">\n<title>11</title>\n<path fill=\"#e89050\" stroke=\"black\" d=\"M818.8,-365C818.8,-365 725.8,-365 725.8,-365 719.8,-365 713.8,-359 713.8,-353 713.8,-353 713.8,-309 713.8,-309 713.8,-303 719.8,-297 725.8,-297 725.8,-297 818.8,-297 818.8,-297 824.8,-297 830.8,-303 830.8,-309 830.8,-309 830.8,-353 830.8,-353 830.8,-359 824.8,-365 818.8,-365\"/>\n<text text-anchor=\"start\" x=\"739.3\" y=\"-349.8\" font-family=\"Helvetica,sans-Serif\" font-size=\"14.00\">Age ≤ 32.5</text>\n<text text-anchor=\"start\" x=\"740.3\" y=\"-334.8\" font-family=\"Helvetica,sans-Serif\" font-size=\"14.00\">gini = 0.19</text>\n<text text-anchor=\"start\" x=\"727.3\" y=\"-319.8\" font-family=\"Helvetica,sans-Serif\" font-size=\"14.00\">samples = 265</text>\n<text text-anchor=\"start\" x=\"721.8\" y=\"-304.8\" font-family=\"Helvetica,sans-Serif\" font-size=\"14.00\">value = [237, 28]</text>\n</g>\n<!-- 9&#45;&gt;11 -->\n<g id=\"edge11\" class=\"edge\">\n<title>9&#45;&gt;11</title>\n<path fill=\"none\" stroke=\"black\" d=\"M721.65,-400.88C728.07,-392.15 735.08,-382.62 741.78,-373.51\"/>\n<polygon fill=\"black\" stroke=\"black\" points=\"744.71,-375.43 747.82,-365.3 739.08,-371.28 744.71,-375.43\"/>\n</g>\n<!-- 12 -->\n<g id=\"node13\" class=\"node\">\n<title>12</title>\n<path fill=\"#e99356\" stroke=\"black\" d=\"M746.8,-261C746.8,-261 653.8,-261 653.8,-261 647.8,-261 641.8,-255 641.8,-249 641.8,-249 641.8,-205 641.8,-205 641.8,-199 647.8,-193 653.8,-193 653.8,-193 746.8,-193 746.8,-193 752.8,-193 758.8,-199 758.8,-205 758.8,-205 758.8,-249 758.8,-249 758.8,-255 752.8,-261 746.8,-261\"/>\n<text text-anchor=\"start\" x=\"663.8\" y=\"-245.8\" font-family=\"Helvetica,sans-Serif\" font-size=\"14.00\">Age ≤ 24.75</text>\n<text text-anchor=\"start\" x=\"668.3\" y=\"-230.8\" font-family=\"Helvetica,sans-Serif\" font-size=\"14.00\">gini = 0.22</text>\n<text text-anchor=\"start\" x=\"655.3\" y=\"-215.8\" font-family=\"Helvetica,sans-Serif\" font-size=\"14.00\">samples = 181</text>\n<text text-anchor=\"start\" x=\"649.8\" y=\"-200.8\" font-family=\"Helvetica,sans-Serif\" font-size=\"14.00\">value = [158, 23]</text>\n</g>\n<!-- 11&#45;&gt;12 -->\n<g id=\"edge12\" class=\"edge\">\n<title>11&#45;&gt;12</title>\n<path fill=\"none\" stroke=\"black\" d=\"M748.93,-296.88C742.77,-288.15 736.04,-278.62 729.61,-269.51\"/>\n<polygon fill=\"black\" stroke=\"black\" points=\"732.44,-267.45 723.81,-261.3 726.72,-271.49 732.44,-267.45\"/>\n</g>\n<!-- 17 -->\n<g id=\"node18\" class=\"node\">\n<title>17</title>\n<path fill=\"#e78946\" stroke=\"black\" d=\"M883.3,-253.5C883.3,-253.5 805.3,-253.5 805.3,-253.5 799.3,-253.5 793.3,-247.5 793.3,-241.5 793.3,-241.5 793.3,-212.5 793.3,-212.5 793.3,-206.5 799.3,-200.5 805.3,-200.5 805.3,-200.5 883.3,-200.5 883.3,-200.5 889.3,-200.5 895.3,-206.5 895.3,-212.5 895.3,-212.5 895.3,-241.5 895.3,-241.5 895.3,-247.5 889.3,-253.5 883.3,-253.5\"/>\n<text text-anchor=\"start\" x=\"812.3\" y=\"-238.3\" font-family=\"Helvetica,sans-Serif\" font-size=\"14.00\">gini = 0.11</text>\n<text text-anchor=\"start\" x=\"803.3\" y=\"-223.3\" font-family=\"Helvetica,sans-Serif\" font-size=\"14.00\">samples = 84</text>\n<text text-anchor=\"start\" x=\"801.3\" y=\"-208.3\" font-family=\"Helvetica,sans-Serif\" font-size=\"14.00\">value = [79, 5]</text>\n</g>\n<!-- 11&#45;&gt;17 -->\n<g id=\"edge17\" class=\"edge\">\n<title>11&#45;&gt;17</title>\n<path fill=\"none\" stroke=\"black\" d=\"M795.68,-296.88C803.6,-285.67 812.45,-273.13 820.41,-261.85\"/>\n<polygon fill=\"black\" stroke=\"black\" points=\"823.38,-263.71 826.29,-253.52 817.66,-259.67 823.38,-263.71\"/>\n</g>\n<!-- 13 -->\n<g id=\"node14\" class=\"node\">\n<title>13</title>\n<path fill=\"#e88d4c\" stroke=\"black\" d=\"M671.8,-157C671.8,-157 578.8,-157 578.8,-157 572.8,-157 566.8,-151 566.8,-145 566.8,-145 566.8,-101 566.8,-101 566.8,-95 572.8,-89 578.8,-89 578.8,-89 671.8,-89 671.8,-89 677.8,-89 683.8,-95 683.8,-101 683.8,-101 683.8,-145 683.8,-145 683.8,-151 677.8,-157 671.8,-157\"/>\n<text text-anchor=\"start\" x=\"579.3\" y=\"-141.8\" font-family=\"Helvetica,sans-Serif\" font-size=\"14.00\">LogFare ≤ 2.18</text>\n<text text-anchor=\"start\" x=\"593.3\" y=\"-126.8\" font-family=\"Helvetica,sans-Serif\" font-size=\"14.00\">gini = 0.16</text>\n<text text-anchor=\"start\" x=\"580.3\" y=\"-111.8\" font-family=\"Helvetica,sans-Serif\" font-size=\"14.00\">samples = 114</text>\n<text text-anchor=\"start\" x=\"574.8\" y=\"-96.8\" font-family=\"Helvetica,sans-Serif\" font-size=\"14.00\">value = [104, 10]</text>\n</g>\n<!-- 12&#45;&gt;13 -->\n<g id=\"edge13\" class=\"edge\">\n<title>12&#45;&gt;13</title>\n<path fill=\"none\" stroke=\"black\" d=\"M675.95,-192.88C669.54,-184.15 662.53,-174.62 655.83,-165.51\"/>\n<polygon fill=\"black\" stroke=\"black\" points=\"658.53,-163.28 649.79,-157.3 652.89,-167.43 658.53,-163.28\"/>\n</g>\n<!-- 16 -->\n<g id=\"node17\" class=\"node\">\n<title>16</title>\n<path fill=\"#eb9f69\" stroke=\"black\" d=\"M817.3,-149.5C817.3,-149.5 731.3,-149.5 731.3,-149.5 725.3,-149.5 719.3,-143.5 719.3,-137.5 719.3,-137.5 719.3,-108.5 719.3,-108.5 719.3,-102.5 725.3,-96.5 731.3,-96.5 731.3,-96.5 817.3,-96.5 817.3,-96.5 823.3,-96.5 829.3,-102.5 829.3,-108.5 829.3,-108.5 829.3,-137.5 829.3,-137.5 829.3,-143.5 823.3,-149.5 817.3,-149.5\"/>\n<text text-anchor=\"start\" x=\"742.3\" y=\"-134.3\" font-family=\"Helvetica,sans-Serif\" font-size=\"14.00\">gini = 0.31</text>\n<text text-anchor=\"start\" x=\"733.3\" y=\"-119.3\" font-family=\"Helvetica,sans-Serif\" font-size=\"14.00\">samples = 67</text>\n<text text-anchor=\"start\" x=\"727.3\" y=\"-104.3\" font-family=\"Helvetica,sans-Serif\" font-size=\"14.00\">value = [54, 13]</text>\n</g>\n<!-- 12&#45;&gt;16 -->\n<g id=\"edge16\" class=\"edge\">\n<title>12&#45;&gt;16</title>\n<path fill=\"none\" stroke=\"black\" d=\"M724.33,-192.88C732.47,-181.67 741.57,-169.13 749.74,-157.85\"/>\n<polygon fill=\"black\" stroke=\"black\" points=\"752.75,-159.67 755.79,-149.52 747.08,-155.56 752.75,-159.67\"/>\n</g>\n<!-- 14 -->\n<g id=\"node15\" class=\"node\">\n<title>14</title>\n<path fill=\"#e99254\" stroke=\"black\" d=\"M596.3,-52.5C596.3,-52.5 518.3,-52.5 518.3,-52.5 512.3,-52.5 506.3,-46.5 506.3,-40.5 506.3,-40.5 506.3,-11.5 506.3,-11.5 506.3,-5.5 512.3,0.5 518.3,0.5 518.3,0.5 596.3,0.5 596.3,0.5 602.3,0.5 608.3,-5.5 608.3,-11.5 608.3,-11.5 608.3,-40.5 608.3,-40.5 608.3,-46.5 602.3,-52.5 596.3,-52.5\"/>\n<text text-anchor=\"start\" x=\"525.3\" y=\"-37.3\" font-family=\"Helvetica,sans-Serif\" font-size=\"14.00\">gini = 0.21</text>\n<text text-anchor=\"start\" x=\"516.3\" y=\"-22.3\" font-family=\"Helvetica,sans-Serif\" font-size=\"14.00\">samples = 50</text>\n<text text-anchor=\"start\" x=\"514.3\" y=\"-7.3\" font-family=\"Helvetica,sans-Serif\" font-size=\"14.00\">value = [44, 6]</text>\n</g>\n<!-- 13&#45;&gt;14 -->\n<g id=\"edge14\" class=\"edge\">\n<title>13&#45;&gt;14</title>\n<path fill=\"none\" stroke=\"black\" d=\"M601.52,-88.77C595.08,-79.77 588.09,-70.02 581.62,-60.97\"/>\n<polygon fill=\"black\" stroke=\"black\" points=\"584.27,-58.67 575.61,-52.57 578.58,-62.74 584.27,-58.67\"/>\n</g>\n<!-- 15 -->\n<g id=\"node16\" class=\"node\">\n<title>15</title>\n<path fill=\"#e78946\" stroke=\"black\" d=\"M732.3,-52.5C732.3,-52.5 654.3,-52.5 654.3,-52.5 648.3,-52.5 642.3,-46.5 642.3,-40.5 642.3,-40.5 642.3,-11.5 642.3,-11.5 642.3,-5.5 648.3,0.5 654.3,0.5 654.3,0.5 732.3,0.5 732.3,0.5 738.3,0.5 744.3,-5.5 744.3,-11.5 744.3,-11.5 744.3,-40.5 744.3,-40.5 744.3,-46.5 738.3,-52.5 732.3,-52.5\"/>\n<text text-anchor=\"start\" x=\"661.3\" y=\"-37.3\" font-family=\"Helvetica,sans-Serif\" font-size=\"14.00\">gini = 0.12</text>\n<text text-anchor=\"start\" x=\"652.3\" y=\"-22.3\" font-family=\"Helvetica,sans-Serif\" font-size=\"14.00\">samples = 64</text>\n<text text-anchor=\"start\" x=\"650.3\" y=\"-7.3\" font-family=\"Helvetica,sans-Serif\" font-size=\"14.00\">value = [60, 4]</text>\n</g>\n<!-- 13&#45;&gt;15 -->\n<g id=\"edge15\" class=\"edge\">\n<title>13&#45;&gt;15</title>\n<path fill=\"none\" stroke=\"black\" d=\"M649.09,-88.77C655.53,-79.77 662.51,-70.02 668.99,-60.97\"/>\n<polygon fill=\"black\" stroke=\"black\" points=\"672.03,-62.74 675,-52.57 666.33,-58.67 672.03,-62.74\"/>\n</g>\n<!-- 19 -->\n<g id=\"node20\" class=\"node\">\n<title>19</title>\n<path fill=\"#f6d5bd\" stroke=\"black\" d=\"M964.3,-357.5C964.3,-357.5 878.3,-357.5 878.3,-357.5 872.3,-357.5 866.3,-351.5 866.3,-345.5 866.3,-345.5 866.3,-316.5 866.3,-316.5 866.3,-310.5 872.3,-304.5 878.3,-304.5 878.3,-304.5 964.3,-304.5 964.3,-304.5 970.3,-304.5 976.3,-310.5 976.3,-316.5 976.3,-316.5 976.3,-345.5 976.3,-345.5 976.3,-351.5 970.3,-357.5 964.3,-357.5\"/>\n<text text-anchor=\"start\" x=\"889.3\" y=\"-342.3\" font-family=\"Helvetica,sans-Serif\" font-size=\"14.00\">gini = 0.48</text>\n<text text-anchor=\"start\" x=\"880.3\" y=\"-327.3\" font-family=\"Helvetica,sans-Serif\" font-size=\"14.00\">samples = 60</text>\n<text text-anchor=\"start\" x=\"874.3\" y=\"-312.3\" font-family=\"Helvetica,sans-Serif\" font-size=\"14.00\">value = [36, 24]</text>\n</g>\n<!-- 18&#45;&gt;19 -->\n<g id=\"edge19\" class=\"edge\">\n<title>18&#45;&gt;19</title>\n<path fill=\"none\" stroke=\"black\" d=\"M921.3,-400.88C921.3,-390.33 921.3,-378.6 921.3,-367.85\"/>\n<polygon fill=\"black\" stroke=\"black\" points=\"924.8,-367.52 921.3,-357.52 917.8,-367.52 924.8,-367.52\"/>\n</g>\n<!-- 20 -->\n<g id=\"node21\" class=\"node\">\n<title>20</title>\n<path fill=\"#eda877\" stroke=\"black\" d=\"M1109.3,-357.5C1109.3,-357.5 1023.3,-357.5 1023.3,-357.5 1017.3,-357.5 1011.3,-351.5 1011.3,-345.5 1011.3,-345.5 1011.3,-316.5 1011.3,-316.5 1011.3,-310.5 1017.3,-304.5 1023.3,-304.5 1023.3,-304.5 1109.3,-304.5 1109.3,-304.5 1115.3,-304.5 1121.3,-310.5 1121.3,-316.5 1121.3,-316.5 1121.3,-345.5 1121.3,-345.5 1121.3,-351.5 1115.3,-357.5 1109.3,-357.5\"/>\n<text text-anchor=\"start\" x=\"1034.3\" y=\"-342.3\" font-family=\"Helvetica,sans-Serif\" font-size=\"14.00\">gini = 0.36</text>\n<text text-anchor=\"start\" x=\"1025.3\" y=\"-327.3\" font-family=\"Helvetica,sans-Serif\" font-size=\"14.00\">samples = 59</text>\n<text text-anchor=\"start\" x=\"1019.3\" y=\"-312.3\" font-family=\"Helvetica,sans-Serif\" font-size=\"14.00\">value = [45, 14]</text>\n</g>\n<!-- 18&#45;&gt;20 -->\n<g id=\"edge20\" class=\"edge\">\n<title>18&#45;&gt;20</title>\n<path fill=\"none\" stroke=\"black\" d=\"M968.38,-400.88C985.42,-388.9 1004.61,-375.4 1021.45,-363.55\"/>\n<polygon fill=\"black\" stroke=\"black\" points=\"1023.86,-366.14 1030.03,-357.52 1019.83,-360.41 1023.86,-366.14\"/>\n</g>\n</g>\n</svg>\n",
            "text/plain": [
              "<graphviz.sources.Source at 0x7febfca17520>"
            ]
          },
          "metadata": {},
          "execution_count": 42
        }
      ],
      "source": [
        "m = DecisionTreeClassifier(min_samples_leaf=50)\n",
        "m.fit(trn_xs, trn_y)\n",
        "draw_tree(m, trn_xs, size=12)"
      ]
    },
    {
      "cell_type": "code",
      "execution_count": 43,
      "metadata": {
        "colab": {
          "base_uri": "https://localhost:8080/"
        },
        "id": "kc8IqAdo7O2d",
        "outputId": "5e4b40f1-6517-438c-b6aa-e021d872db98"
      },
      "outputs": [
        {
          "output_type": "execute_result",
          "data": {
            "text/plain": [
              "0.18385650224215247"
            ]
          },
          "metadata": {},
          "execution_count": 43
        }
      ],
      "source": [
        "mean_absolute_error(val_y, m.predict(val_xs))"
      ]
    },
    {
      "cell_type": "code",
      "execution_count": 44,
      "metadata": {
        "id": "3mBuWHfz7U4g"
      },
      "outputs": [],
      "source": [
        "tst_df[cats] = tst_df[cats].apply(lambda x: x.cat.codes)\n",
        "tst_xs,_ = xs_y(tst_df)\n",
        "\n",
        "def subm(preds, suff):\n",
        "    tst_df['Survived'] = preds\n",
        "    sub_df = tst_df[['PassengerId','Survived']]\n",
        "    sub_df.to_csv(f'sub-{suff}.csv', index=False)\n",
        "\n",
        "subm(m.predict(tst_xs), 'tree')"
      ]
    },
    {
      "cell_type": "code",
      "execution_count": 45,
      "metadata": {
        "colab": {
          "base_uri": "https://localhost:8080/"
        },
        "id": "2CVXjE2x7YsW",
        "outputId": "c62b149b-d3d7-4128-89b9-825d7e7850cc"
      },
      "outputs": [
        {
          "output_type": "execute_result",
          "data": {
            "text/plain": [
              "0    S\n",
              "1    C\n",
              "2    S\n",
              "3    S\n",
              "4    S\n",
              "Name: Embarked, dtype: category\n",
              "Categories (3, object): ['C', 'Q', 'S']"
            ]
          },
          "metadata": {},
          "execution_count": 45
        }
      ],
      "source": [
        "df.Embarked.head()"
      ]
    },
    {
      "cell_type": "code",
      "execution_count": 46,
      "metadata": {
        "colab": {
          "base_uri": "https://localhost:8080/"
        },
        "id": "VfQ42hBV7bMW",
        "outputId": "703d0771-0a04-4e3d-ea29-4119c1a094b1"
      },
      "outputs": [
        {
          "output_type": "execute_result",
          "data": {
            "text/plain": [
              "0    2\n",
              "1    0\n",
              "2    2\n",
              "3    2\n",
              "4    2\n",
              "dtype: int8"
            ]
          },
          "metadata": {},
          "execution_count": 46
        }
      ],
      "source": [
        "df.Embarked.cat.codes.head()"
      ]
    },
    {
      "cell_type": "markdown",
      "metadata": {
        "id": "I8J54hOx7hpo"
      },
      "source": [
        "## ***The random forest***"
      ]
    },
    {
      "cell_type": "code",
      "execution_count": 47,
      "metadata": {
        "id": "dlZ4nbdS7jp0"
      },
      "outputs": [],
      "source": [
        "def get_tree(prop=0.75):\n",
        "    n = len(trn_y)\n",
        "    idxs = random.choice(n, int(n*prop))\n",
        "    return DecisionTreeClassifier(min_samples_leaf=5).fit(trn_xs.iloc[idxs], trn_y.iloc[idxs])"
      ]
    },
    {
      "cell_type": "code",
      "source": [
        "trees = [get_tree() for t in range(100)]"
      ],
      "metadata": {
        "id": "YpQn0KFWQVnh"
      },
      "execution_count": 48,
      "outputs": []
    },
    {
      "cell_type": "code",
      "source": [
        "all_probs = [t.predict(val_xs) for t in trees]\n",
        "avg_probs = np.stack(all_probs).mean(0)\n",
        "\n",
        "mean_absolute_error(val_y, avg_probs)"
      ],
      "metadata": {
        "colab": {
          "base_uri": "https://localhost:8080/"
        },
        "id": "EfMclWUOQZ75",
        "outputId": "522e0d64-a1b9-4235-fb9f-0fa5a08db368"
      },
      "execution_count": 49,
      "outputs": [
        {
          "output_type": "execute_result",
          "data": {
            "text/plain": [
              "0.2272645739910314"
            ]
          },
          "metadata": {},
          "execution_count": 49
        }
      ]
    },
    {
      "cell_type": "code",
      "source": [
        "from sklearn.ensemble import RandomForestClassifier\n",
        "\n",
        "rf = RandomForestClassifier(100, min_samples_leaf=5)\n",
        "rf.fit(trn_xs, trn_y);\n",
        "mean_absolute_error(val_y, rf.predict(val_xs))"
      ],
      "metadata": {
        "colab": {
          "base_uri": "https://localhost:8080/"
        },
        "id": "d97qCnjNQdRp",
        "outputId": "64314c6b-64ac-4434-9d62-6ba3917342dd"
      },
      "execution_count": 50,
      "outputs": [
        {
          "output_type": "execute_result",
          "data": {
            "text/plain": [
              "0.18834080717488788"
            ]
          },
          "metadata": {},
          "execution_count": 50
        }
      ]
    },
    {
      "cell_type": "code",
      "source": [
        "subm(rf.predict(tst_xs), 'rf')"
      ],
      "metadata": {
        "id": "-rSZ-E3WQfu7"
      },
      "execution_count": 51,
      "outputs": []
    },
    {
      "cell_type": "code",
      "source": [
        "pd.DataFrame(dict(cols=trn_xs.columns, imp=m.feature_importances_)).plot('cols', 'imp', 'barh');"
      ],
      "metadata": {
        "colab": {
          "base_uri": "https://localhost:8080/",
          "height": 430
        },
        "id": "8Hx2zLE8Q0jm",
        "outputId": "c2def6ce-42c8-494e-ba2a-386070253389"
      },
      "execution_count": 52,
      "outputs": [
        {
          "output_type": "display_data",
          "data": {
            "text/plain": [
              "<Figure size 640x480 with 1 Axes>"
            ],
            "image/png": "[encoded data removed]"
          },
          "metadata": {}
        }
      ]
    }
  ],
  "metadata": {
    "colab": {
      "provenance": []
    },
    "kernelspec": {
      "display_name": "Python 3",
      "name": "python3"
    },
    "language_info": {
      "name": "python"
    },
    "widgets": {
      "application/vnd.jupyter.widget-state+json": {
        "31490fdd83c042688ddf2ba8e3ee3f1f": {
          "model_module": "@jupyter-widgets/controls",
          "model_name": "VBoxModel",
          "model_module_version": "1.5.0",
          "state": {
            "_dom_classes": [
              "widget-interact"
            ],
            "_model_module": "@jupyter-widgets/controls",
            "_model_module_version": "1.5.0",
            "_model_name": "VBoxModel",
            "_view_count": null,
            "_view_module": "@jupyter-widgets/controls",
            "_view_module_version": "1.5.0",
            "_view_name": "VBoxView",
            "box_style": "",
            "children": [
              "IPY_MODEL_a99a55ac94124303b5c3d3afa8934aaa",
              "IPY_MODEL_757d5e5346af4568862e644f98332437",
              "IPY_MODEL_b50346a97a184339a8a0319bf2c43be2"
            ],
            "layout": "IPY_MODEL_6a9426abc0f04ccba4412da905d5f605"
          }
        },
        "a99a55ac94124303b5c3d3afa8934aaa": {
          "model_module": "@jupyter-widgets/controls",
          "model_name": "DropdownModel",
          "model_module_version": "1.5.0",
          "state": {
            "_dom_classes": [],
            "_model_module": "@jupyter-widgets/controls",
            "_model_module_version": "1.5.0",
            "_model_name": "DropdownModel",
            "_options_labels": [
              "Age",
              "SibSp",
              "Parch",
              "LogFare",
              "Pclass"
            ],
            "_view_count": null,
            "_view_module": "@jupyter-widgets/controls",
            "_view_module_version": "1.5.0",
            "_view_name": "DropdownView",
            "description": "nm",
            "description_tooltip": null,
            "disabled": false,
            "index": 0,
            "layout": "IPY_MODEL_87de02902fcb45dcb150d31d74c55c4e",
            "style": "IPY_MODEL_4706b7a2f371484ab7a7f3d985acfd43"
          }
        },
        "757d5e5346af4568862e644f98332437": {
          "model_module": "@jupyter-widgets/controls",
          "model_name": "FloatSliderModel",
          "model_module_version": "1.5.0",
          "state": {
            "_dom_classes": [],
            "_model_module": "@jupyter-widgets/controls",
            "_model_module_version": "1.5.0",
            "_model_name": "FloatSliderModel",
            "_view_count": null,
            "_view_module": "@jupyter-widgets/controls",
            "_view_module_version": "1.5.0",
            "_view_name": "FloatSliderView",
            "continuous_update": true,
            "description": "split",
            "description_tooltip": null,
            "disabled": false,
            "layout": "IPY_MODEL_1bfdad11de26471493feac5f30a85f39",
            "max": 46.5,
            "min": -15.5,
            "orientation": "horizontal",
            "readout": true,
            "readout_format": ".2f",
            "step": 0.1,
            "style": "IPY_MODEL_d7f422e91abf4408a71ba98827a4b54f",
            "value": 15.5
          }
        },
        "b50346a97a184339a8a0319bf2c43be2": {
          "model_module": "@jupyter-widgets/output",
          "model_name": "OutputModel",
          "model_module_version": "1.0.0",
          "state": {
            "_dom_classes": [],
            "_model_module": "@jupyter-widgets/output",
            "_model_module_version": "1.0.0",
            "_model_name": "OutputModel",
            "_view_count": null,
            "_view_module": "@jupyter-widgets/output",
            "_view_module_version": "1.0.0",
            "_view_name": "OutputView",
            "layout": "IPY_MODEL_cf6281839a774913865900dbcf2e5bec",
            "msg_id": "",
            "outputs": [
              {
                "output_type": "display_data",
                "data": {
                  "text/plain": "0.48105614369455413"
                },
                "metadata": {}
              }
            ]
          }
        },
        "6a9426abc0f04ccba4412da905d5f605": {
          "model_module": "@jupyter-widgets/base",
          "model_name": "LayoutModel",
          "model_module_version": "1.2.0",
          "state": {
            "_model_module": "@jupyter-widgets/base",
            "_model_module_version": "1.2.0",
            "_model_name": "LayoutModel",
            "_view_count": null,
            "_view_module": "@jupyter-widgets/base",
            "_view_module_version": "1.2.0",
            "_view_name": "LayoutView",
            "align_content": null,
            "align_items": null,
            "align_self": null,
            "border": null,
            "bottom": null,
            "display": null,
            "flex": null,
            "flex_flow": null,
            "grid_area": null,
            "grid_auto_columns": null,
            "grid_auto_flow": null,
            "grid_auto_rows": null,
            "grid_column": null,
            "grid_gap": null,
            "grid_row": null,
            "grid_template_areas": null,
            "grid_template_columns": null,
            "grid_template_rows": null,
            "height": null,
            "justify_content": null,
            "justify_items": null,
            "left": null,
            "margin": null,
            "max_height": null,
            "max_width": null,
            "min_height": null,
            "min_width": null,
            "object_fit": null,
            "object_position": null,
            "order": null,
            "overflow": null,
            "overflow_x": null,
            "overflow_y": null,
            "padding": null,
            "right": null,
            "top": null,
            "visibility": null,
            "width": null
          }
        },
        "87de02902fcb45dcb150d31d74c55c4e": {
          "model_module": "@jupyter-widgets/base",
          "model_name": "LayoutModel",
          "model_module_version": "1.2.0",
          "state": {
            "_model_module": "@jupyter-widgets/base",
            "_model_module_version": "1.2.0",
            "_model_name": "LayoutModel",
            "_view_count": null,
            "_view_module": "@jupyter-widgets/base",
            "_view_module_version": "1.2.0",
            "_view_name": "LayoutView",
            "align_content": null,
            "align_items": null,
            "align_self": null,
            "border": null,
            "bottom": null,
            "display": null,
            "flex": null,
            "flex_flow": null,
            "grid_area": null,
            "grid_auto_columns": null,
            "grid_auto_flow": null,
            "grid_auto_rows": null,
            "grid_column": null,
            "grid_gap": null,
            "grid_row": null,
            "grid_template_areas": null,
            "grid_template_columns": null,
            "grid_template_rows": null,
            "height": null,
            "justify_content": null,
            "justify_items": null,
            "left": null,
            "margin": null,
            "max_height": null,
            "max_width": null,
            "min_height": null,
            "min_width": null,
            "object_fit": null,
            "object_position": null,
            "order": null,
            "overflow": null,
            "overflow_x": null,
            "overflow_y": null,
            "padding": null,
            "right": null,
            "top": null,
            "visibility": null,
            "width": null
          }
        },
        "4706b7a2f371484ab7a7f3d985acfd43": {
          "model_module": "@jupyter-widgets/controls",
          "model_name": "DescriptionStyleModel",
          "model_module_version": "1.5.0",
          "state": {
            "_model_module": "@jupyter-widgets/controls",
            "_model_module_version": "1.5.0",
            "_model_name": "DescriptionStyleModel",
            "_view_count": null,
            "_view_module": "@jupyter-widgets/base",
            "_view_module_version": "1.2.0",
            "_view_name": "StyleView",
            "description_width": ""
          }
        },
        "1bfdad11de26471493feac5f30a85f39": {
          "model_module": "@jupyter-widgets/base",
          "model_name": "LayoutModel",
          "model_module_version": "1.2.0",
          "state": {
            "_model_module": "@jupyter-widgets/base",
            "_model_module_version": "1.2.0",
            "_model_name": "LayoutModel",
            "_view_count": null,
            "_view_module": "@jupyter-widgets/base",
            "_view_module_version": "1.2.0",
            "_view_name": "LayoutView",
            "align_content": null,
            "align_items": null,
            "align_self": null,
            "border": null,
            "bottom": null,
            "display": null,
            "flex": null,
            "flex_flow": null,
            "grid_area": null,
            "grid_auto_columns": null,
            "grid_auto_flow": null,
            "grid_auto_rows": null,
            "grid_column": null,
            "grid_gap": null,
            "grid_row": null,
            "grid_template_areas": null,
            "grid_template_columns": null,
            "grid_template_rows": null,
            "height": null,
            "justify_content": null,
            "justify_items": null,
            "left": null,
            "margin": null,
            "max_height": null,
            "max_width": null,
            "min_height": null,
            "min_width": null,
            "object_fit": null,
            "object_position": null,
            "order": null,
            "overflow": null,
            "overflow_x": null,
            "overflow_y": null,
            "padding": null,
            "right": null,
            "top": null,
            "visibility": null,
            "width": null
          }
        },
        "d7f422e91abf4408a71ba98827a4b54f": {
          "model_module": "@jupyter-widgets/controls",
          "model_name": "SliderStyleModel",
          "model_module_version": "1.5.0",
          "state": {
            "_model_module": "@jupyter-widgets/controls",
            "_model_module_version": "1.5.0",
            "_model_name": "SliderStyleModel",
            "_view_count": null,
            "_view_module": "@jupyter-widgets/base",
            "_view_module_version": "1.2.0",
            "_view_name": "StyleView",
            "description_width": "",
            "handle_color": null
          }
        },
        "cf6281839a774913865900dbcf2e5bec": {
          "model_module": "@jupyter-widgets/base",
          "model_name": "LayoutModel",
          "model_module_version": "1.2.0",
          "state": {
            "_model_module": "@jupyter-widgets/base",
            "_model_module_version": "1.2.0",
            "_model_name": "LayoutModel",
            "_view_count": null,
            "_view_module": "@jupyter-widgets/base",
            "_view_module_version": "1.2.0",
            "_view_name": "LayoutView",
            "align_content": null,
            "align_items": null,
            "align_self": null,
            "border": null,
            "bottom": null,
            "display": null,
            "flex": null,
            "flex_flow": null,
            "grid_area": null,
            "grid_auto_columns": null,
            "grid_auto_flow": null,
            "grid_auto_rows": null,
            "grid_column": null,
            "grid_gap": null,
            "grid_row": null,
            "grid_template_areas": null,
            "grid_template_columns": null,
            "grid_template_rows": null,
            "height": null,
            "justify_content": null,
            "justify_items": null,
            "left": null,
            "margin": null,
            "max_height": null,
            "max_width": null,
            "min_height": null,
            "min_width": null,
            "object_fit": null,
            "object_position": null,
            "order": null,
            "overflow": null,
            "overflow_x": null,
            "overflow_y": null,
            "padding": null,
            "right": null,
            "top": null,
            "visibility": null,
            "width": null
          }
        },
        "2574d0874cc841298f7ebd19df36bfa1": {
          "model_module": "@jupyter-widgets/controls",
          "model_name": "VBoxModel",
          "model_module_version": "1.5.0",
          "state": {
            "_dom_classes": [
              "widget-interact"
            ],
            "_model_module": "@jupyter-widgets/controls",
            "_model_module_version": "1.5.0",
            "_model_name": "VBoxModel",
            "_view_count": null,
            "_view_module": "@jupyter-widgets/controls",
            "_view_module_version": "1.5.0",
            "_view_name": "VBoxView",
            "box_style": "",
            "children": [
              "IPY_MODEL_5d95766b70754010aab14b04e6bb8c88",
              "IPY_MODEL_d0d2e3cb9cdb4ba7b29396e8ac742095",
              "IPY_MODEL_bc80fcb149d84dbdb28b3f86eb190a4e"
            ],
            "layout": "IPY_MODEL_f589f58b74294c6d813e4b64d49f15fc"
          }
        },
        "5d95766b70754010aab14b04e6bb8c88": {
          "model_module": "@jupyter-widgets/controls",
          "model_name": "DropdownModel",
          "model_module_version": "1.5.0",
          "state": {
            "_dom_classes": [],
            "_model_module": "@jupyter-widgets/controls",
            "_model_module_version": "1.5.0",
            "_model_name": "DropdownModel",
            "_options_labels": [
              "Sex",
              "Embarked"
            ],
            "_view_count": null,
            "_view_module": "@jupyter-widgets/controls",
            "_view_module_version": "1.5.0",
            "_view_name": "DropdownView",
            "description": "nm",
            "description_tooltip": null,
            "disabled": false,
            "index": 0,
            "layout": "IPY_MODEL_6a777fb73aba42d69cbd1a04777a4d62",
            "style": "IPY_MODEL_eee1d9883ae543cb87db961ce1448f03"
          }
        },
        "d0d2e3cb9cdb4ba7b29396e8ac742095": {
          "model_module": "@jupyter-widgets/controls",
          "model_name": "IntSliderModel",
          "model_module_version": "1.5.0",
          "state": {
            "_dom_classes": [],
            "_model_module": "@jupyter-widgets/controls",
            "_model_module_version": "1.5.0",
            "_model_name": "IntSliderModel",
            "_view_count": null,
            "_view_module": "@jupyter-widgets/controls",
            "_view_module_version": "1.5.0",
            "_view_name": "IntSliderView",
            "continuous_update": true,
            "description": "split",
            "description_tooltip": null,
            "disabled": false,
            "layout": "IPY_MODEL_9168817ca9d141c0b01def3ea809e0c1",
            "max": 6,
            "min": -2,
            "orientation": "horizontal",
            "readout": true,
            "readout_format": "d",
            "step": 1,
            "style": "IPY_MODEL_ebdb7017dcc64587bd108d3ee39cd670",
            "value": 2
          }
        },
        "bc80fcb149d84dbdb28b3f86eb190a4e": {
          "model_module": "@jupyter-widgets/output",
          "model_name": "OutputModel",
          "model_module_version": "1.0.0",
          "state": {
            "_dom_classes": [],
            "_model_module": "@jupyter-widgets/output",
            "_model_module_version": "1.0.0",
            "_model_name": "OutputModel",
            "_view_count": null,
            "_view_module": "@jupyter-widgets/output",
            "_view_module_version": "1.0.0",
            "_view_name": "OutputView",
            "layout": "IPY_MODEL_82f7e324856e41e0a19d6f56e17f86d6",
            "msg_id": "",
            "outputs": [
              {
                "output_type": "display_data",
                "data": {
                  "text/plain": "0.4854373192013831"
                },
                "metadata": {}
              }
            ]
          }
        },
        "f589f58b74294c6d813e4b64d49f15fc": {
          "model_module": "@jupyter-widgets/base",
          "model_name": "LayoutModel",
          "model_module_version": "1.2.0",
          "state": {
            "_model_module": "@jupyter-widgets/base",
            "_model_module_version": "1.2.0",
            "_model_name": "LayoutModel",
            "_view_count": null,
            "_view_module": "@jupyter-widgets/base",
            "_view_module_version": "1.2.0",
            "_view_name": "LayoutView",
            "align_content": null,
            "align_items": null,
            "align_self": null,
            "border": null,
            "bottom": null,
            "display": null,
            "flex": null,
            "flex_flow": null,
            "grid_area": null,
            "grid_auto_columns": null,
            "grid_auto_flow": null,
            "grid_auto_rows": null,
            "grid_column": null,
            "grid_gap": null,
            "grid_row": null,
            "grid_template_areas": null,
            "grid_template_columns": null,
            "grid_template_rows": null,
            "height": null,
            "justify_content": null,
            "justify_items": null,
            "left": null,
            "margin": null,
            "max_height": null,
            "max_width": null,
            "min_height": null,
            "min_width": null,
            "object_fit": null,
            "object_position": null,
            "order": null,
            "overflow": null,
            "overflow_x": null,
            "overflow_y": null,
            "padding": null,
            "right": null,
            "top": null,
            "visibility": null,
            "width": null
          }
        },
        "6a777fb73aba42d69cbd1a04777a4d62": {
          "model_module": "@jupyter-widgets/base",
          "model_name": "LayoutModel",
          "model_module_version": "1.2.0",
          "state": {
            "_model_module": "@jupyter-widgets/base",
            "_model_module_version": "1.2.0",
            "_model_name": "LayoutModel",
            "_view_count": null,
            "_view_module": "@jupyter-widgets/base",
            "_view_module_version": "1.2.0",
            "_view_name": "LayoutView",
            "align_content": null,
            "align_items": null,
            "align_self": null,
            "border": null,
            "bottom": null,
            "display": null,
            "flex": null,
            "flex_flow": null,
            "grid_area": null,
            "grid_auto_columns": null,
            "grid_auto_flow": null,
            "grid_auto_rows": null,
            "grid_column": null,
            "grid_gap": null,
            "grid_row": null,
            "grid_template_areas": null,
            "grid_template_columns": null,
            "grid_template_rows": null,
            "height": null,
            "justify_content": null,
            "justify_items": null,
            "left": null,
            "margin": null,
            "max_height": null,
            "max_width": null,
            "min_height": null,
            "min_width": null,
            "object_fit": null,
            "object_position": null,
            "order": null,
            "overflow": null,
            "overflow_x": null,
            "overflow_y": null,
            "padding": null,
            "right": null,
            "top": null,
            "visibility": null,
            "width": null
          }
        },
        "eee1d9883ae543cb87db961ce1448f03": {
          "model_module": "@jupyter-widgets/controls",
          "model_name": "DescriptionStyleModel",
          "model_module_version": "1.5.0",
          "state": {
            "_model_module": "@jupyter-widgets/controls",
            "_model_module_version": "1.5.0",
            "_model_name": "DescriptionStyleModel",
            "_view_count": null,
            "_view_module": "@jupyter-widgets/base",
            "_view_module_version": "1.2.0",
            "_view_name": "StyleView",
            "description_width": ""
          }
        },
        "9168817ca9d141c0b01def3ea809e0c1": {
          "model_module": "@jupyter-widgets/base",
          "model_name": "LayoutModel",
          "model_module_version": "1.2.0",
          "state": {
            "_model_module": "@jupyter-widgets/base",
            "_model_module_version": "1.2.0",
            "_model_name": "LayoutModel",
            "_view_count": null,
            "_view_module": "@jupyter-widgets/base",
            "_view_module_version": "1.2.0",
            "_view_name": "LayoutView",
            "align_content": null,
            "align_items": null,
            "align_self": null,
            "border": null,
            "bottom": null,
            "display": null,
            "flex": null,
            "flex_flow": null,
            "grid_area": null,
            "grid_auto_columns": null,
            "grid_auto_flow": null,
            "grid_auto_rows": null,
            "grid_column": null,
            "grid_gap": null,
            "grid_row": null,
            "grid_template_areas": null,
            "grid_template_columns": null,
            "grid_template_rows": null,
            "height": null,
            "justify_content": null,
            "justify_items": null,
            "left": null,
            "margin": null,
            "max_height": null,
            "max_width": null,
            "min_height": null,
            "min_width": null,
            "object_fit": null,
            "object_position": null,
            "order": null,
            "overflow": null,
            "overflow_x": null,
            "overflow_y": null,
            "padding": null,
            "right": null,
            "top": null,
            "visibility": null,
            "width": null
          }
        },
        "ebdb7017dcc64587bd108d3ee39cd670": {
          "model_module": "@jupyter-widgets/controls",
          "model_name": "SliderStyleModel",
          "model_module_version": "1.5.0",
          "state": {
            "_model_module": "@jupyter-widgets/controls",
            "_model_module_version": "1.5.0",
            "_model_name": "SliderStyleModel",
            "_view_count": null,
            "_view_module": "@jupyter-widgets/base",
            "_view_module_version": "1.2.0",
            "_view_name": "StyleView",
            "description_width": "",
            "handle_color": null
          }
        },
        "82f7e324856e41e0a19d6f56e17f86d6": {
          "model_module": "@jupyter-widgets/base",
          "model_name": "LayoutModel",
          "model_module_version": "1.2.0",
          "state": {
            "_model_module": "@jupyter-widgets/base",
            "_model_module_version": "1.2.0",
            "_model_name": "LayoutModel",
            "_view_count": null,
            "_view_module": "@jupyter-widgets/base",
            "_view_module_version": "1.2.0",
            "_view_name": "LayoutView",
            "align_content": null,
            "align_items": null,
            "align_self": null,
            "border": null,
            "bottom": null,
            "display": null,
            "flex": null,
            "flex_flow": null,
            "grid_area": null,
            "grid_auto_columns": null,
            "grid_auto_flow": null,
            "grid_auto_rows": null,
            "grid_column": null,
            "grid_gap": null,
            "grid_row": null,
            "grid_template_areas": null,
            "grid_template_columns": null,
            "grid_template_rows": null,
            "height": null,
            "justify_content": null,
            "justify_items": null,
            "left": null,
            "margin": null,
            "max_height": null,
            "max_width": null,
            "min_height": null,
            "min_width": null,
            "object_fit": null,
            "object_position": null,
            "order": null,
            "overflow": null,
            "overflow_x": null,
            "overflow_y": null,
            "padding": null,
            "right": null,
            "top": null,
            "visibility": null,
            "width": null
          }
        }
      }
    }
  },
  "nbformat": 4,
  "nbformat_minor": 0
}